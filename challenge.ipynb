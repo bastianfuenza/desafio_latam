{
 "cells": [
  {
   "cell_type": "markdown",
   "metadata": {},
   "source": [
    "# Imports"
   ]
  },
  {
   "cell_type": "code",
   "execution_count": 117,
   "metadata": {},
   "outputs": [],
   "source": [
    "import os\n",
    "from pathlib import Path\n",
    "from typing import List\n",
    "\n",
    "import numpy as np\n",
    "import pandas as pd\n",
    "import matplotlib.pyplot as plt\n",
    "import seaborn as sns\n",
    "from xgboost import XGBClassifier\n",
    "from sklearn.preprocessing import OneHotEncoder, StandardScaler\n",
    "from sklearn.decomposition import TruncatedSVD\n",
    "from sklearn.model_selection import train_test_split, ParameterGrid\n",
    "from sklearn.metrics import accuracy_score, confusion_matrix, f1_score"
   ]
  },
  {
   "cell_type": "markdown",
   "metadata": {},
   "source": [
    "# Analisis preliminar y Limpieza"
   ]
  },
  {
   "cell_type": "code",
   "execution_count": 3,
   "metadata": {},
   "outputs": [
    {
     "name": "stdout",
     "output_type": "stream",
     "text": [
      "Shape of dataframe: (68206, 18)\n"
     ]
    },
    {
     "name": "stderr",
     "output_type": "stream",
     "text": [
      "C:\\Users\\Bastian\\AppData\\Local\\Temp\\ipykernel_14384\\162653823.py:1: DtypeWarning: Columns (1,6) have mixed types. Specify dtype option on import or set low_memory=False.\n",
      "  data = pd.read_csv(Path(os.getcwd()).joinpath('data', 'dataset_SCL.csv'))\n"
     ]
    },
    {
     "data": {
      "text/html": [
       "<div>\n",
       "<style scoped>\n",
       "    .dataframe tbody tr th:only-of-type {\n",
       "        vertical-align: middle;\n",
       "    }\n",
       "\n",
       "    .dataframe tbody tr th {\n",
       "        vertical-align: top;\n",
       "    }\n",
       "\n",
       "    .dataframe thead th {\n",
       "        text-align: right;\n",
       "    }\n",
       "</style>\n",
       "<table border=\"1\" class=\"dataframe\">\n",
       "  <thead>\n",
       "    <tr style=\"text-align: right;\">\n",
       "      <th></th>\n",
       "      <th>Fecha-I</th>\n",
       "      <th>Vlo-I</th>\n",
       "      <th>Ori-I</th>\n",
       "      <th>Des-I</th>\n",
       "      <th>Emp-I</th>\n",
       "      <th>Fecha-O</th>\n",
       "      <th>Vlo-O</th>\n",
       "      <th>Ori-O</th>\n",
       "      <th>Des-O</th>\n",
       "      <th>Emp-O</th>\n",
       "      <th>DIA</th>\n",
       "      <th>MES</th>\n",
       "      <th>AÑO</th>\n",
       "      <th>DIANOM</th>\n",
       "      <th>TIPOVUELO</th>\n",
       "      <th>OPERA</th>\n",
       "      <th>SIGLAORI</th>\n",
       "      <th>SIGLADES</th>\n",
       "    </tr>\n",
       "  </thead>\n",
       "  <tbody>\n",
       "    <tr>\n",
       "      <th>58560</th>\n",
       "      <td>2017-11-29 08:35:00</td>\n",
       "      <td>148</td>\n",
       "      <td>SCEL</td>\n",
       "      <td>SCCF</td>\n",
       "      <td>LAN</td>\n",
       "      <td>2017-11-29 08:29:00</td>\n",
       "      <td>148</td>\n",
       "      <td>SCEL</td>\n",
       "      <td>SCCF</td>\n",
       "      <td>LAN</td>\n",
       "      <td>29</td>\n",
       "      <td>11</td>\n",
       "      <td>2017</td>\n",
       "      <td>Miercoles</td>\n",
       "      <td>N</td>\n",
       "      <td>Grupo LATAM</td>\n",
       "      <td>Santiago</td>\n",
       "      <td>Calama</td>\n",
       "    </tr>\n",
       "    <tr>\n",
       "      <th>63027</th>\n",
       "      <td>2017-12-04 00:35:00</td>\n",
       "      <td>9643</td>\n",
       "      <td>SCEL</td>\n",
       "      <td>SBGR</td>\n",
       "      <td>TAM</td>\n",
       "      <td>2017-12-04 00:45:00</td>\n",
       "      <td>9643</td>\n",
       "      <td>SCEL</td>\n",
       "      <td>SBGR</td>\n",
       "      <td>TAM</td>\n",
       "      <td>4</td>\n",
       "      <td>12</td>\n",
       "      <td>2017</td>\n",
       "      <td>Lunes</td>\n",
       "      <td>I</td>\n",
       "      <td>Grupo LATAM</td>\n",
       "      <td>Santiago</td>\n",
       "      <td>Sao Paulo</td>\n",
       "    </tr>\n",
       "    <tr>\n",
       "      <th>66340</th>\n",
       "      <td>2017-12-16 15:35:00</td>\n",
       "      <td>410</td>\n",
       "      <td>SCEL</td>\n",
       "      <td>SUMU</td>\n",
       "      <td>LAN</td>\n",
       "      <td>2017-12-16 15:57:00</td>\n",
       "      <td>410.0</td>\n",
       "      <td>SCEL</td>\n",
       "      <td>SUMU</td>\n",
       "      <td>LAN</td>\n",
       "      <td>16</td>\n",
       "      <td>12</td>\n",
       "      <td>2017</td>\n",
       "      <td>Sabado</td>\n",
       "      <td>I</td>\n",
       "      <td>Grupo LATAM</td>\n",
       "      <td>Santiago</td>\n",
       "      <td>Montevideo</td>\n",
       "    </tr>\n",
       "    <tr>\n",
       "      <th>63215</th>\n",
       "      <td>2017-12-01 19:15:00</td>\n",
       "      <td>25</td>\n",
       "      <td>SCEL</td>\n",
       "      <td>SCTE</td>\n",
       "      <td>SKU</td>\n",
       "      <td>2017-12-01 20:00:00</td>\n",
       "      <td>25</td>\n",
       "      <td>SCEL</td>\n",
       "      <td>SCTE</td>\n",
       "      <td>SKU</td>\n",
       "      <td>1</td>\n",
       "      <td>12</td>\n",
       "      <td>2017</td>\n",
       "      <td>Viernes</td>\n",
       "      <td>N</td>\n",
       "      <td>Sky Airline</td>\n",
       "      <td>Santiago</td>\n",
       "      <td>Puerto Montt</td>\n",
       "    </tr>\n",
       "    <tr>\n",
       "      <th>49004</th>\n",
       "      <td>2017-09-05 19:10:00</td>\n",
       "      <td>704</td>\n",
       "      <td>SCEL</td>\n",
       "      <td>LEMD</td>\n",
       "      <td>LAN</td>\n",
       "      <td>2017-09-05 19:08:00</td>\n",
       "      <td>704</td>\n",
       "      <td>SCEL</td>\n",
       "      <td>LEMD</td>\n",
       "      <td>LAN</td>\n",
       "      <td>5</td>\n",
       "      <td>9</td>\n",
       "      <td>2017</td>\n",
       "      <td>Martes</td>\n",
       "      <td>I</td>\n",
       "      <td>Grupo LATAM</td>\n",
       "      <td>Santiago</td>\n",
       "      <td>Madrid</td>\n",
       "    </tr>\n",
       "    <tr>\n",
       "      <th>67741</th>\n",
       "      <td>2017-12-24 16:30:00</td>\n",
       "      <td>54</td>\n",
       "      <td>SCEL</td>\n",
       "      <td>SCFA</td>\n",
       "      <td>LAW</td>\n",
       "      <td>2017-12-24 16:32:00</td>\n",
       "      <td>54.0</td>\n",
       "      <td>SCEL</td>\n",
       "      <td>SCFA</td>\n",
       "      <td>JMR</td>\n",
       "      <td>24</td>\n",
       "      <td>12</td>\n",
       "      <td>2017</td>\n",
       "      <td>Domingo</td>\n",
       "      <td>N</td>\n",
       "      <td>Latin American Wings</td>\n",
       "      <td>Santiago</td>\n",
       "      <td>Antofagasta</td>\n",
       "    </tr>\n",
       "    <tr>\n",
       "      <th>6446</th>\n",
       "      <td>2017-02-16 16:16:00</td>\n",
       "      <td>116</td>\n",
       "      <td>SCEL</td>\n",
       "      <td>SKBO</td>\n",
       "      <td>AVA</td>\n",
       "      <td>2017-02-16 16:20:00</td>\n",
       "      <td>116</td>\n",
       "      <td>SCEL</td>\n",
       "      <td>SKBO</td>\n",
       "      <td>AVA</td>\n",
       "      <td>16</td>\n",
       "      <td>2</td>\n",
       "      <td>2017</td>\n",
       "      <td>Jueves</td>\n",
       "      <td>I</td>\n",
       "      <td>Avianca</td>\n",
       "      <td>Santiago</td>\n",
       "      <td>Bogota</td>\n",
       "    </tr>\n",
       "  </tbody>\n",
       "</table>\n",
       "</div>"
      ],
      "text/plain": [
       "                   Fecha-I Vlo-I Ori-I Des-I Emp-I              Fecha-O  \\\n",
       "58560  2017-11-29 08:35:00   148  SCEL  SCCF   LAN  2017-11-29 08:29:00   \n",
       "63027  2017-12-04 00:35:00  9643  SCEL  SBGR   TAM  2017-12-04 00:45:00   \n",
       "66340  2017-12-16 15:35:00   410  SCEL  SUMU   LAN  2017-12-16 15:57:00   \n",
       "63215  2017-12-01 19:15:00    25  SCEL  SCTE   SKU  2017-12-01 20:00:00   \n",
       "49004  2017-09-05 19:10:00   704  SCEL  LEMD   LAN  2017-09-05 19:08:00   \n",
       "67741  2017-12-24 16:30:00    54  SCEL  SCFA   LAW  2017-12-24 16:32:00   \n",
       "6446   2017-02-16 16:16:00   116  SCEL  SKBO   AVA  2017-02-16 16:20:00   \n",
       "\n",
       "       Vlo-O Ori-O Des-O Emp-O  DIA  MES   AÑO     DIANOM TIPOVUELO  \\\n",
       "58560    148  SCEL  SCCF   LAN   29   11  2017  Miercoles         N   \n",
       "63027   9643  SCEL  SBGR   TAM    4   12  2017      Lunes         I   \n",
       "66340  410.0  SCEL  SUMU   LAN   16   12  2017     Sabado         I   \n",
       "63215     25  SCEL  SCTE   SKU    1   12  2017    Viernes         N   \n",
       "49004    704  SCEL  LEMD   LAN    5    9  2017     Martes         I   \n",
       "67741   54.0  SCEL  SCFA   JMR   24   12  2017    Domingo         N   \n",
       "6446     116  SCEL  SKBO   AVA   16    2  2017     Jueves         I   \n",
       "\n",
       "                      OPERA  SIGLAORI      SIGLADES  \n",
       "58560           Grupo LATAM  Santiago        Calama  \n",
       "63027           Grupo LATAM  Santiago     Sao Paulo  \n",
       "66340           Grupo LATAM  Santiago    Montevideo  \n",
       "63215           Sky Airline  Santiago  Puerto Montt  \n",
       "49004           Grupo LATAM  Santiago        Madrid  \n",
       "67741  Latin American Wings  Santiago   Antofagasta  \n",
       "6446                Avianca  Santiago        Bogota  "
      ]
     },
     "execution_count": 3,
     "metadata": {},
     "output_type": "execute_result"
    }
   ],
   "source": [
    "data = pd.read_csv(Path(os.getcwd()).joinpath('data', 'dataset_SCL.csv'))\n",
    "print(f'Shape of dataframe: {data.shape}')\n",
    "data.sample(frac=0.0001, random_state=12)"
   ]
  },
  {
   "cell_type": "markdown",
   "metadata": {},
   "source": [
    "Vemos que, a priori, en general la informacion de programacion es igual a la de operacion de vuelo (salvo la hora de vuelo, que es el problema a predecir), pero hay casos donde la aerolinea no es la misma. Addemas, 'OPERA' pareciera indicar la misma informacion que 'Emp-I' y no 'Emp-O', ya que Latin American Wings probablemente corresponde con la sigla LAW y no con JMR."
   ]
  },
  {
   "cell_type": "code",
   "execution_count": 4,
   "metadata": {},
   "outputs": [
    {
     "data": {
      "text/html": [
       "<div>\n",
       "<style scoped>\n",
       "    .dataframe tbody tr th:only-of-type {\n",
       "        vertical-align: middle;\n",
       "    }\n",
       "\n",
       "    .dataframe tbody tr th {\n",
       "        vertical-align: top;\n",
       "    }\n",
       "\n",
       "    .dataframe thead th {\n",
       "        text-align: right;\n",
       "    }\n",
       "</style>\n",
       "<table border=\"1\" class=\"dataframe\">\n",
       "  <thead>\n",
       "    <tr style=\"text-align: right;\">\n",
       "      <th></th>\n",
       "      <th>Fecha-I</th>\n",
       "      <th>Vlo-I</th>\n",
       "      <th>Ori-I</th>\n",
       "      <th>Des-I</th>\n",
       "      <th>Emp-I</th>\n",
       "      <th>Fecha-O</th>\n",
       "      <th>Vlo-O</th>\n",
       "      <th>Ori-O</th>\n",
       "      <th>Des-O</th>\n",
       "      <th>Emp-O</th>\n",
       "      <th>DIA</th>\n",
       "      <th>MES</th>\n",
       "      <th>AÑO</th>\n",
       "      <th>DIANOM</th>\n",
       "      <th>TIPOVUELO</th>\n",
       "      <th>OPERA</th>\n",
       "      <th>SIGLAORI</th>\n",
       "      <th>SIGLADES</th>\n",
       "    </tr>\n",
       "  </thead>\n",
       "  <tbody>\n",
       "    <tr>\n",
       "      <th>20444</th>\n",
       "      <td>2017-04-14 22:00:00</td>\n",
       "      <td>289</td>\n",
       "      <td>SCEL</td>\n",
       "      <td>SCTE</td>\n",
       "      <td>LAN</td>\n",
       "      <td>2017-04-14 22:01:00</td>\n",
       "      <td>289</td>\n",
       "      <td>SCEL</td>\n",
       "      <td>SCCI</td>\n",
       "      <td>LXP</td>\n",
       "      <td>14</td>\n",
       "      <td>4</td>\n",
       "      <td>2017</td>\n",
       "      <td>Viernes</td>\n",
       "      <td>N</td>\n",
       "      <td>Grupo LATAM</td>\n",
       "      <td>Santiago</td>\n",
       "      <td>Punta Arenas</td>\n",
       "    </tr>\n",
       "    <tr>\n",
       "      <th>67600</th>\n",
       "      <td>2017-12-02 11:15:00</td>\n",
       "      <td>7811</td>\n",
       "      <td>SCEL</td>\n",
       "      <td>SAEZ</td>\n",
       "      <td>LAN</td>\n",
       "      <td>2017-12-02 11:21:00</td>\n",
       "      <td>7811.0</td>\n",
       "      <td>SCEL</td>\n",
       "      <td>SABE</td>\n",
       "      <td>DSM</td>\n",
       "      <td>2</td>\n",
       "      <td>12</td>\n",
       "      <td>2017</td>\n",
       "      <td>Sabado</td>\n",
       "      <td>I</td>\n",
       "      <td>Grupo LATAM</td>\n",
       "      <td>Santiago</td>\n",
       "      <td>Buenos Aires</td>\n",
       "    </tr>\n",
       "    <tr>\n",
       "      <th>18293</th>\n",
       "      <td>2017-04-14 18:40:00</td>\n",
       "      <td>25</td>\n",
       "      <td>SCEL</td>\n",
       "      <td>SCTE</td>\n",
       "      <td>SKU</td>\n",
       "      <td>2017-04-14 18:48:00</td>\n",
       "      <td>25</td>\n",
       "      <td>SCEL</td>\n",
       "      <td>SCQP</td>\n",
       "      <td>SKU</td>\n",
       "      <td>14</td>\n",
       "      <td>4</td>\n",
       "      <td>2017</td>\n",
       "      <td>Viernes</td>\n",
       "      <td>N</td>\n",
       "      <td>Sky Airline</td>\n",
       "      <td>Santiago</td>\n",
       "      <td>Temuco</td>\n",
       "    </tr>\n",
       "    <tr>\n",
       "      <th>55144</th>\n",
       "      <td>2017-10-06 00:55:00</td>\n",
       "      <td>1260</td>\n",
       "      <td>SCEL</td>\n",
       "      <td>SEQU</td>\n",
       "      <td>LAN</td>\n",
       "      <td>2017-10-06 02:15:00</td>\n",
       "      <td>1260</td>\n",
       "      <td>SCEL</td>\n",
       "      <td>SEQM</td>\n",
       "      <td>LAN</td>\n",
       "      <td>6</td>\n",
       "      <td>10</td>\n",
       "      <td>2017</td>\n",
       "      <td>Viernes</td>\n",
       "      <td>I</td>\n",
       "      <td>Grupo LATAM</td>\n",
       "      <td>Santiago</td>\n",
       "      <td>Quito</td>\n",
       "    </tr>\n",
       "    <tr>\n",
       "      <th>1397</th>\n",
       "      <td>2017-01-17 19:20:00</td>\n",
       "      <td>25</td>\n",
       "      <td>SCEL</td>\n",
       "      <td>SCTE</td>\n",
       "      <td>SKU</td>\n",
       "      <td>2017-01-17 19:46:00</td>\n",
       "      <td>25</td>\n",
       "      <td>SCEL</td>\n",
       "      <td>SCQP</td>\n",
       "      <td>SKU</td>\n",
       "      <td>17</td>\n",
       "      <td>1</td>\n",
       "      <td>2017</td>\n",
       "      <td>Martes</td>\n",
       "      <td>N</td>\n",
       "      <td>Sky Airline</td>\n",
       "      <td>Santiago</td>\n",
       "      <td>Temuco</td>\n",
       "    </tr>\n",
       "    <tr>\n",
       "      <th>25422</th>\n",
       "      <td>2017-05-12 08:25:00</td>\n",
       "      <td>271</td>\n",
       "      <td>SCEL</td>\n",
       "      <td>SCBA</td>\n",
       "      <td>LAN</td>\n",
       "      <td>2017-05-12 08:36:00</td>\n",
       "      <td>271</td>\n",
       "      <td>SCEL</td>\n",
       "      <td>SCTE</td>\n",
       "      <td>LXP</td>\n",
       "      <td>12</td>\n",
       "      <td>5</td>\n",
       "      <td>2017</td>\n",
       "      <td>Viernes</td>\n",
       "      <td>N</td>\n",
       "      <td>Grupo LATAM</td>\n",
       "      <td>Santiago</td>\n",
       "      <td>Puerto Montt</td>\n",
       "    </tr>\n",
       "    <tr>\n",
       "      <th>38135</th>\n",
       "      <td>2017-07-17 16:00:00</td>\n",
       "      <td>7813</td>\n",
       "      <td>SCEL</td>\n",
       "      <td>SABE</td>\n",
       "      <td>LAN</td>\n",
       "      <td>2017-07-17 16:41:00</td>\n",
       "      <td>1113</td>\n",
       "      <td>SCEL</td>\n",
       "      <td>SAEZ</td>\n",
       "      <td>LAN</td>\n",
       "      <td>17</td>\n",
       "      <td>7</td>\n",
       "      <td>2017</td>\n",
       "      <td>Lunes</td>\n",
       "      <td>I</td>\n",
       "      <td>Grupo LATAM</td>\n",
       "      <td>Santiago</td>\n",
       "      <td>Buenos Aires</td>\n",
       "    </tr>\n",
       "    <tr>\n",
       "      <th>61463</th>\n",
       "      <td>2017-11-06 06:00:00</td>\n",
       "      <td>1031</td>\n",
       "      <td>SCEL</td>\n",
       "      <td>SCIE</td>\n",
       "      <td>LAW</td>\n",
       "      <td>2017-11-06 08:01:00</td>\n",
       "      <td>1031</td>\n",
       "      <td>SCEL</td>\n",
       "      <td>SCTE</td>\n",
       "      <td>JMR</td>\n",
       "      <td>6</td>\n",
       "      <td>11</td>\n",
       "      <td>2017</td>\n",
       "      <td>Lunes</td>\n",
       "      <td>N</td>\n",
       "      <td>Latin American Wings</td>\n",
       "      <td>Santiago</td>\n",
       "      <td>Puerto Montt</td>\n",
       "    </tr>\n",
       "  </tbody>\n",
       "</table>\n",
       "</div>"
      ],
      "text/plain": [
       "                   Fecha-I Vlo-I Ori-I Des-I Emp-I              Fecha-O  \\\n",
       "20444  2017-04-14 22:00:00   289  SCEL  SCTE   LAN  2017-04-14 22:01:00   \n",
       "67600  2017-12-02 11:15:00  7811  SCEL  SAEZ   LAN  2017-12-02 11:21:00   \n",
       "18293  2017-04-14 18:40:00    25  SCEL  SCTE   SKU  2017-04-14 18:48:00   \n",
       "55144  2017-10-06 00:55:00  1260  SCEL  SEQU   LAN  2017-10-06 02:15:00   \n",
       "1397   2017-01-17 19:20:00    25  SCEL  SCTE   SKU  2017-01-17 19:46:00   \n",
       "25422  2017-05-12 08:25:00   271  SCEL  SCBA   LAN  2017-05-12 08:36:00   \n",
       "38135  2017-07-17 16:00:00  7813  SCEL  SABE   LAN  2017-07-17 16:41:00   \n",
       "61463  2017-11-06 06:00:00  1031  SCEL  SCIE   LAW  2017-11-06 08:01:00   \n",
       "\n",
       "        Vlo-O Ori-O Des-O Emp-O  DIA  MES   AÑO   DIANOM TIPOVUELO  \\\n",
       "20444     289  SCEL  SCCI   LXP   14    4  2017  Viernes         N   \n",
       "67600  7811.0  SCEL  SABE   DSM    2   12  2017   Sabado         I   \n",
       "18293      25  SCEL  SCQP   SKU   14    4  2017  Viernes         N   \n",
       "55144    1260  SCEL  SEQM   LAN    6   10  2017  Viernes         I   \n",
       "1397       25  SCEL  SCQP   SKU   17    1  2017   Martes         N   \n",
       "25422     271  SCEL  SCTE   LXP   12    5  2017  Viernes         N   \n",
       "38135    1113  SCEL  SAEZ   LAN   17    7  2017    Lunes         I   \n",
       "61463    1031  SCEL  SCTE   JMR    6   11  2017    Lunes         N   \n",
       "\n",
       "                      OPERA  SIGLAORI      SIGLADES  \n",
       "20444           Grupo LATAM  Santiago  Punta Arenas  \n",
       "67600           Grupo LATAM  Santiago  Buenos Aires  \n",
       "18293           Sky Airline  Santiago        Temuco  \n",
       "55144           Grupo LATAM  Santiago         Quito  \n",
       "1397            Sky Airline  Santiago        Temuco  \n",
       "25422           Grupo LATAM  Santiago  Puerto Montt  \n",
       "38135           Grupo LATAM  Santiago  Buenos Aires  \n",
       "61463  Latin American Wings  Santiago  Puerto Montt  "
      ]
     },
     "execution_count": 4,
     "metadata": {},
     "output_type": "execute_result"
    }
   ],
   "source": [
    "# get data where Des-I is different from Des-O\n",
    "data[data[\"Des-I\"] != data[\"Des-O\"]].sample(frac = 0.3, random_state = 42)"
   ]
  },
  {
   "cell_type": "markdown",
   "metadata": {},
   "source": [
    "Aqui vemos que en algunos casos el destino de vuelo tambien cambia entre la informacion de programacion y operacion. Ademas, en este caso 'SIGLADES' no indica la misma informacion de 'Des-I', si no que la de 'Des-O', lo que se puede ver porque las siglas de Puerto Montt y Temuco coinciden para 'Des-O' y no para 'Des-I'."
   ]
  },
  {
   "cell_type": "code",
   "execution_count": 5,
   "metadata": {},
   "outputs": [
    {
     "data": {
      "text/html": [
       "<div>\n",
       "<style scoped>\n",
       "    .dataframe tbody tr th:only-of-type {\n",
       "        vertical-align: middle;\n",
       "    }\n",
       "\n",
       "    .dataframe tbody tr th {\n",
       "        vertical-align: top;\n",
       "    }\n",
       "\n",
       "    .dataframe thead th {\n",
       "        text-align: right;\n",
       "    }\n",
       "</style>\n",
       "<table border=\"1\" class=\"dataframe\">\n",
       "  <thead>\n",
       "    <tr style=\"text-align: right;\">\n",
       "      <th></th>\n",
       "      <th>Fecha-I</th>\n",
       "      <th>Vlo-I</th>\n",
       "      <th>Ori-I</th>\n",
       "      <th>Des-I</th>\n",
       "      <th>Emp-I</th>\n",
       "      <th>Fecha-O</th>\n",
       "      <th>Vlo-O</th>\n",
       "      <th>Ori-O</th>\n",
       "      <th>Des-O</th>\n",
       "      <th>Emp-O</th>\n",
       "      <th>DIA</th>\n",
       "      <th>MES</th>\n",
       "      <th>AÑO</th>\n",
       "      <th>DIANOM</th>\n",
       "      <th>TIPOVUELO</th>\n",
       "      <th>OPERA</th>\n",
       "      <th>SIGLAORI</th>\n",
       "      <th>SIGLADES</th>\n",
       "    </tr>\n",
       "  </thead>\n",
       "  <tbody>\n",
       "  </tbody>\n",
       "</table>\n",
       "</div>"
      ],
      "text/plain": [
       "Empty DataFrame\n",
       "Columns: [Fecha-I, Vlo-I, Ori-I, Des-I, Emp-I, Fecha-O, Vlo-O, Ori-O, Des-O, Emp-O, DIA, MES, AÑO, DIANOM, TIPOVUELO, OPERA, SIGLAORI, SIGLADES]\n",
       "Index: []"
      ]
     },
     "execution_count": 5,
     "metadata": {},
     "output_type": "execute_result"
    }
   ],
   "source": [
    "# get data where Ori-I is different from Ori-O\n",
    "data[data[\"Ori-I\"] != data[\"Ori-O\"]]"
   ]
  },
  {
   "cell_type": "markdown",
   "metadata": {},
   "source": [
    "Para la ciudad de origen, los datos de programacion vs operacion coinciden perfectamente"
   ]
  },
  {
   "cell_type": "code",
   "execution_count": 6,
   "metadata": {},
   "outputs": [
    {
     "data": {
      "text/html": [
       "<div>\n",
       "<style scoped>\n",
       "    .dataframe tbody tr th:only-of-type {\n",
       "        vertical-align: middle;\n",
       "    }\n",
       "\n",
       "    .dataframe tbody tr th {\n",
       "        vertical-align: top;\n",
       "    }\n",
       "\n",
       "    .dataframe thead th {\n",
       "        text-align: right;\n",
       "    }\n",
       "</style>\n",
       "<table border=\"1\" class=\"dataframe\">\n",
       "  <thead>\n",
       "    <tr style=\"text-align: right;\">\n",
       "      <th></th>\n",
       "      <th>Fecha-I</th>\n",
       "      <th>Vlo-I</th>\n",
       "      <th>Ori-I</th>\n",
       "      <th>Des-I</th>\n",
       "      <th>Emp-I</th>\n",
       "      <th>Fecha-O</th>\n",
       "      <th>Vlo-O</th>\n",
       "      <th>Ori-O</th>\n",
       "      <th>Des-O</th>\n",
       "      <th>Emp-O</th>\n",
       "      <th>DIA</th>\n",
       "      <th>MES</th>\n",
       "      <th>AÑO</th>\n",
       "      <th>DIANOM</th>\n",
       "      <th>TIPOVUELO</th>\n",
       "      <th>OPERA</th>\n",
       "      <th>SIGLAORI</th>\n",
       "      <th>SIGLADES</th>\n",
       "    </tr>\n",
       "  </thead>\n",
       "  <tbody>\n",
       "    <tr>\n",
       "      <th>63920</th>\n",
       "      <td>2017-12-25 04:00:00</td>\n",
       "      <td>170</td>\n",
       "      <td>SCEL</td>\n",
       "      <td>SCDA</td>\n",
       "      <td>SKU</td>\n",
       "      <td>2017-12-25 03:50:00</td>\n",
       "      <td>170.0</td>\n",
       "      <td>SCEL</td>\n",
       "      <td>SCDA</td>\n",
       "      <td>SKU</td>\n",
       "      <td>25</td>\n",
       "      <td>12</td>\n",
       "      <td>2017</td>\n",
       "      <td>Lunes</td>\n",
       "      <td>N</td>\n",
       "      <td>Sky Airline</td>\n",
       "      <td>Santiago</td>\n",
       "      <td>Iquique</td>\n",
       "    </tr>\n",
       "    <tr>\n",
       "      <th>65253</th>\n",
       "      <td>2017-12-07 17:32:00</td>\n",
       "      <td>213</td>\n",
       "      <td>SCEL</td>\n",
       "      <td>SCIE</td>\n",
       "      <td>LAN</td>\n",
       "      <td>2017-12-07 17:41:00</td>\n",
       "      <td>213.0</td>\n",
       "      <td>SCEL</td>\n",
       "      <td>SCIE</td>\n",
       "      <td>LXP</td>\n",
       "      <td>7</td>\n",
       "      <td>12</td>\n",
       "      <td>2017</td>\n",
       "      <td>Jueves</td>\n",
       "      <td>N</td>\n",
       "      <td>Grupo LATAM</td>\n",
       "      <td>Santiago</td>\n",
       "      <td>Concepcion</td>\n",
       "    </tr>\n",
       "    <tr>\n",
       "      <th>64173</th>\n",
       "      <td>2017-12-21 21:10:00</td>\n",
       "      <td>503</td>\n",
       "      <td>SCEL</td>\n",
       "      <td>SAEZ</td>\n",
       "      <td>SKU</td>\n",
       "      <td>2017-12-21 22:03:00</td>\n",
       "      <td>503.0</td>\n",
       "      <td>SCEL</td>\n",
       "      <td>SAEZ</td>\n",
       "      <td>SKU</td>\n",
       "      <td>21</td>\n",
       "      <td>12</td>\n",
       "      <td>2017</td>\n",
       "      <td>Jueves</td>\n",
       "      <td>I</td>\n",
       "      <td>Sky Airline</td>\n",
       "      <td>Santiago</td>\n",
       "      <td>Buenos Aires</td>\n",
       "    </tr>\n",
       "    <tr>\n",
       "      <th>64486</th>\n",
       "      <td>2017-12-24 09:38:00</td>\n",
       "      <td>61</td>\n",
       "      <td>SCEL</td>\n",
       "      <td>SCTE</td>\n",
       "      <td>LAN</td>\n",
       "      <td>2017-12-24 09:45:00</td>\n",
       "      <td>61.0</td>\n",
       "      <td>SCEL</td>\n",
       "      <td>SCTE</td>\n",
       "      <td>LAN</td>\n",
       "      <td>24</td>\n",
       "      <td>12</td>\n",
       "      <td>2017</td>\n",
       "      <td>Domingo</td>\n",
       "      <td>N</td>\n",
       "      <td>Grupo LATAM</td>\n",
       "      <td>Santiago</td>\n",
       "      <td>Puerto Montt</td>\n",
       "    </tr>\n",
       "  </tbody>\n",
       "</table>\n",
       "</div>"
      ],
      "text/plain": [
       "                   Fecha-I Vlo-I Ori-I Des-I Emp-I              Fecha-O  \\\n",
       "63920  2017-12-25 04:00:00   170  SCEL  SCDA   SKU  2017-12-25 03:50:00   \n",
       "65253  2017-12-07 17:32:00   213  SCEL  SCIE   LAN  2017-12-07 17:41:00   \n",
       "64173  2017-12-21 21:10:00   503  SCEL  SAEZ   SKU  2017-12-21 22:03:00   \n",
       "64486  2017-12-24 09:38:00    61  SCEL  SCTE   LAN  2017-12-24 09:45:00   \n",
       "\n",
       "       Vlo-O Ori-O Des-O Emp-O  DIA  MES   AÑO   DIANOM TIPOVUELO  \\\n",
       "63920  170.0  SCEL  SCDA   SKU   25   12  2017    Lunes         N   \n",
       "65253  213.0  SCEL  SCIE   LXP    7   12  2017   Jueves         N   \n",
       "64173  503.0  SCEL  SAEZ   SKU   21   12  2017   Jueves         I   \n",
       "64486   61.0  SCEL  SCTE   LAN   24   12  2017  Domingo         N   \n",
       "\n",
       "             OPERA  SIGLAORI      SIGLADES  \n",
       "63920  Sky Airline  Santiago       Iquique  \n",
       "65253  Grupo LATAM  Santiago    Concepcion  \n",
       "64173  Sky Airline  Santiago  Buenos Aires  \n",
       "64486  Grupo LATAM  Santiago  Puerto Montt  "
      ]
     },
     "execution_count": 6,
     "metadata": {},
     "output_type": "execute_result"
    }
   ],
   "source": [
    "# get data where Vlo-I is different from Vlo-O\n",
    "data[data[\"Vlo-I\"] != data[\"Vlo-O\"]].sample(frac = 0.002, random_state = 42)"
   ]
  },
  {
   "cell_type": "markdown",
   "metadata": {},
   "source": [
    "En el caso del numero de vuelo, ocurre que algunos datos fueron guardados como float y cargados como texto, por lo que habria que cambiarlos a int, pero como pandas no los transformó a numerico automaticamente, probablemente haya otro problema tambien"
   ]
  },
  {
   "cell_type": "code",
   "execution_count": 7,
   "metadata": {},
   "outputs": [
    {
     "data": {
      "text/html": [
       "<div>\n",
       "<style scoped>\n",
       "    .dataframe tbody tr th:only-of-type {\n",
       "        vertical-align: middle;\n",
       "    }\n",
       "\n",
       "    .dataframe tbody tr th {\n",
       "        vertical-align: top;\n",
       "    }\n",
       "\n",
       "    .dataframe thead th {\n",
       "        text-align: right;\n",
       "    }\n",
       "</style>\n",
       "<table border=\"1\" class=\"dataframe\">\n",
       "  <thead>\n",
       "    <tr style=\"text-align: right;\">\n",
       "      <th></th>\n",
       "      <th>Fecha-I</th>\n",
       "      <th>Vlo-I</th>\n",
       "      <th>Ori-I</th>\n",
       "      <th>Des-I</th>\n",
       "      <th>Emp-I</th>\n",
       "      <th>Fecha-O</th>\n",
       "      <th>Vlo-O</th>\n",
       "      <th>Ori-O</th>\n",
       "      <th>Des-O</th>\n",
       "      <th>Emp-O</th>\n",
       "      <th>DIA</th>\n",
       "      <th>MES</th>\n",
       "      <th>AÑO</th>\n",
       "      <th>DIANOM</th>\n",
       "      <th>TIPOVUELO</th>\n",
       "      <th>OPERA</th>\n",
       "      <th>SIGLAORI</th>\n",
       "      <th>SIGLADES</th>\n",
       "    </tr>\n",
       "  </thead>\n",
       "  <tbody>\n",
       "    <tr>\n",
       "      <th>6068</th>\n",
       "      <td>2017-01-19 11:00:00</td>\n",
       "      <td>200</td>\n",
       "      <td>SCEL</td>\n",
       "      <td>SPJC</td>\n",
       "      <td>LAW</td>\n",
       "      <td>2017-01-19 11:03:00</td>\n",
       "      <td>NaN</td>\n",
       "      <td>SCEL</td>\n",
       "      <td>SPJC</td>\n",
       "      <td>56R</td>\n",
       "      <td>19</td>\n",
       "      <td>1</td>\n",
       "      <td>2017</td>\n",
       "      <td>Jueves</td>\n",
       "      <td>I</td>\n",
       "      <td>Latin American Wings</td>\n",
       "      <td>Santiago</td>\n",
       "      <td>Lima</td>\n",
       "    </tr>\n",
       "    <tr>\n",
       "      <th>13906</th>\n",
       "      <td>2017-03-30 10:30:00</td>\n",
       "      <td>71</td>\n",
       "      <td>SCEL</td>\n",
       "      <td>SCIE</td>\n",
       "      <td>SKU</td>\n",
       "      <td>2017-03-30 10:50:00</td>\n",
       "      <td>71R</td>\n",
       "      <td>SCEL</td>\n",
       "      <td>SCIE</td>\n",
       "      <td>SKU</td>\n",
       "      <td>30</td>\n",
       "      <td>3</td>\n",
       "      <td>2017</td>\n",
       "      <td>Jueves</td>\n",
       "      <td>N</td>\n",
       "      <td>Sky Airline</td>\n",
       "      <td>Santiago</td>\n",
       "      <td>Concepcion</td>\n",
       "    </tr>\n",
       "    <tr>\n",
       "      <th>22167</th>\n",
       "      <td>2017-04-06 21:10:00</td>\n",
       "      <td>43</td>\n",
       "      <td>SCEL</td>\n",
       "      <td>SCIE</td>\n",
       "      <td>LAW</td>\n",
       "      <td>2017-04-06 21:24:00</td>\n",
       "      <td>43R</td>\n",
       "      <td>SCEL</td>\n",
       "      <td>SCIE</td>\n",
       "      <td>JMR</td>\n",
       "      <td>6</td>\n",
       "      <td>4</td>\n",
       "      <td>2017</td>\n",
       "      <td>Jueves</td>\n",
       "      <td>N</td>\n",
       "      <td>Latin American Wings</td>\n",
       "      <td>Santiago</td>\n",
       "      <td>Concepcion</td>\n",
       "    </tr>\n",
       "    <tr>\n",
       "      <th>55354</th>\n",
       "      <td>2017-10-19 03:30:00</td>\n",
       "      <td>502</td>\n",
       "      <td>SCEL</td>\n",
       "      <td>KMIA</td>\n",
       "      <td>LAN</td>\n",
       "      <td>2017-10-19 03:33:00</td>\n",
       "      <td>502R</td>\n",
       "      <td>SCEL</td>\n",
       "      <td>KMIA</td>\n",
       "      <td>LAN</td>\n",
       "      <td>19</td>\n",
       "      <td>10</td>\n",
       "      <td>2017</td>\n",
       "      <td>Jueves</td>\n",
       "      <td>I</td>\n",
       "      <td>Grupo LATAM</td>\n",
       "      <td>Santiago</td>\n",
       "      <td>Miami</td>\n",
       "    </tr>\n",
       "    <tr>\n",
       "      <th>32196</th>\n",
       "      <td>2017-06-29 12:40:00</td>\n",
       "      <td>492</td>\n",
       "      <td>SCEL</td>\n",
       "      <td>SACO</td>\n",
       "      <td>LAN</td>\n",
       "      <td>2017-06-29 12:27:00</td>\n",
       "      <td>492R</td>\n",
       "      <td>SCEL</td>\n",
       "      <td>SACO</td>\n",
       "      <td>LAN</td>\n",
       "      <td>29</td>\n",
       "      <td>6</td>\n",
       "      <td>2017</td>\n",
       "      <td>Jueves</td>\n",
       "      <td>I</td>\n",
       "      <td>Grupo LATAM</td>\n",
       "      <td>Santiago</td>\n",
       "      <td>Cordoba</td>\n",
       "    </tr>\n",
       "    <tr>\n",
       "      <th>44939</th>\n",
       "      <td>2017-09-28 21:30:00</td>\n",
       "      <td>846</td>\n",
       "      <td>SCEL</td>\n",
       "      <td>KIAH</td>\n",
       "      <td>UAL</td>\n",
       "      <td>2017-09-28 21:44:00</td>\n",
       "      <td>846A</td>\n",
       "      <td>SCEL</td>\n",
       "      <td>KIAH</td>\n",
       "      <td>UAL</td>\n",
       "      <td>28</td>\n",
       "      <td>9</td>\n",
       "      <td>2017</td>\n",
       "      <td>Jueves</td>\n",
       "      <td>I</td>\n",
       "      <td>United Airlines</td>\n",
       "      <td>Santiago</td>\n",
       "      <td>Houston</td>\n",
       "    </tr>\n",
       "    <tr>\n",
       "      <th>24304</th>\n",
       "      <td>2017-05-11 10:00:00</td>\n",
       "      <td>802</td>\n",
       "      <td>SCEL</td>\n",
       "      <td>SPJC</td>\n",
       "      <td>SKU</td>\n",
       "      <td>2017-05-11 10:36:00</td>\n",
       "      <td>802R</td>\n",
       "      <td>SCEL</td>\n",
       "      <td>SPJC</td>\n",
       "      <td>SKU</td>\n",
       "      <td>11</td>\n",
       "      <td>5</td>\n",
       "      <td>2017</td>\n",
       "      <td>Jueves</td>\n",
       "      <td>I</td>\n",
       "      <td>Sky Airline</td>\n",
       "      <td>Santiago</td>\n",
       "      <td>Lima</td>\n",
       "    </tr>\n",
       "    <tr>\n",
       "      <th>39225</th>\n",
       "      <td>2017-08-07 19:00:00</td>\n",
       "      <td>591P</td>\n",
       "      <td>SCEL</td>\n",
       "      <td>LFPG</td>\n",
       "      <td>PUE</td>\n",
       "      <td>2017-08-07 20:35:00</td>\n",
       "      <td>591P</td>\n",
       "      <td>SCEL</td>\n",
       "      <td>LFPG</td>\n",
       "      <td>PUE</td>\n",
       "      <td>7</td>\n",
       "      <td>8</td>\n",
       "      <td>2017</td>\n",
       "      <td>Lunes</td>\n",
       "      <td>I</td>\n",
       "      <td>Plus Ultra Lineas Aereas</td>\n",
       "      <td>Santiago</td>\n",
       "      <td>Paris</td>\n",
       "    </tr>\n",
       "  </tbody>\n",
       "</table>\n",
       "</div>"
      ],
      "text/plain": [
       "                   Fecha-I Vlo-I Ori-I Des-I Emp-I              Fecha-O Vlo-O  \\\n",
       "6068   2017-01-19 11:00:00   200  SCEL  SPJC   LAW  2017-01-19 11:03:00   NaN   \n",
       "13906  2017-03-30 10:30:00    71  SCEL  SCIE   SKU  2017-03-30 10:50:00   71R   \n",
       "22167  2017-04-06 21:10:00    43  SCEL  SCIE   LAW  2017-04-06 21:24:00   43R   \n",
       "55354  2017-10-19 03:30:00   502  SCEL  KMIA   LAN  2017-10-19 03:33:00  502R   \n",
       "32196  2017-06-29 12:40:00   492  SCEL  SACO   LAN  2017-06-29 12:27:00  492R   \n",
       "44939  2017-09-28 21:30:00   846  SCEL  KIAH   UAL  2017-09-28 21:44:00  846A   \n",
       "24304  2017-05-11 10:00:00   802  SCEL  SPJC   SKU  2017-05-11 10:36:00  802R   \n",
       "39225  2017-08-07 19:00:00  591P  SCEL  LFPG   PUE  2017-08-07 20:35:00  591P   \n",
       "\n",
       "      Ori-O Des-O Emp-O  DIA  MES   AÑO  DIANOM TIPOVUELO  \\\n",
       "6068   SCEL  SPJC   56R   19    1  2017  Jueves         I   \n",
       "13906  SCEL  SCIE   SKU   30    3  2017  Jueves         N   \n",
       "22167  SCEL  SCIE   JMR    6    4  2017  Jueves         N   \n",
       "55354  SCEL  KMIA   LAN   19   10  2017  Jueves         I   \n",
       "32196  SCEL  SACO   LAN   29    6  2017  Jueves         I   \n",
       "44939  SCEL  KIAH   UAL   28    9  2017  Jueves         I   \n",
       "24304  SCEL  SPJC   SKU   11    5  2017  Jueves         I   \n",
       "39225  SCEL  LFPG   PUE    7    8  2017   Lunes         I   \n",
       "\n",
       "                          OPERA  SIGLAORI    SIGLADES  \n",
       "6068       Latin American Wings  Santiago        Lima  \n",
       "13906               Sky Airline  Santiago  Concepcion  \n",
       "22167      Latin American Wings  Santiago  Concepcion  \n",
       "55354               Grupo LATAM  Santiago       Miami  \n",
       "32196               Grupo LATAM  Santiago     Cordoba  \n",
       "44939           United Airlines  Santiago     Houston  \n",
       "24304               Sky Airline  Santiago        Lima  \n",
       "39225  Plus Ultra Lineas Aereas  Santiago       Paris  "
      ]
     },
     "execution_count": 7,
     "metadata": {},
     "output_type": "execute_result"
    }
   ],
   "source": [
    "# get data where Vlo-O cannot be converted into numeric\n",
    "not_num_mask = pd.to_numeric(data[\"Vlo-O\"], errors='coerce').isna() \n",
    "data.loc[not_num_mask, :].sample(frac = 0.5, random_state = 42)"
   ]
  },
  {
   "cell_type": "markdown",
   "metadata": {},
   "source": [
    "Vemos que los valores que no pueden ser convertidos se deben a que tienen letras luego del numero, esto tambien ocurre en 'Vlo-I'; ademas, se nota un NaN."
   ]
  },
  {
   "cell_type": "markdown",
   "metadata": {},
   "source": [
    "Entonces, nos deshacemos de las letras en los numeros de vuelo"
   ]
  },
  {
   "cell_type": "code",
   "execution_count": 8,
   "metadata": {},
   "outputs": [
    {
     "data": {
      "text/html": [
       "<div>\n",
       "<style scoped>\n",
       "    .dataframe tbody tr th:only-of-type {\n",
       "        vertical-align: middle;\n",
       "    }\n",
       "\n",
       "    .dataframe tbody tr th {\n",
       "        vertical-align: top;\n",
       "    }\n",
       "\n",
       "    .dataframe thead th {\n",
       "        text-align: right;\n",
       "    }\n",
       "</style>\n",
       "<table border=\"1\" class=\"dataframe\">\n",
       "  <thead>\n",
       "    <tr style=\"text-align: right;\">\n",
       "      <th></th>\n",
       "      <th>Fecha-I</th>\n",
       "      <th>Vlo-I</th>\n",
       "      <th>Ori-I</th>\n",
       "      <th>Des-I</th>\n",
       "      <th>Emp-I</th>\n",
       "      <th>Fecha-O</th>\n",
       "      <th>Vlo-O</th>\n",
       "      <th>Ori-O</th>\n",
       "      <th>Des-O</th>\n",
       "      <th>Emp-O</th>\n",
       "      <th>DIA</th>\n",
       "      <th>MES</th>\n",
       "      <th>AÑO</th>\n",
       "      <th>DIANOM</th>\n",
       "      <th>TIPOVUELO</th>\n",
       "      <th>OPERA</th>\n",
       "      <th>SIGLAORI</th>\n",
       "      <th>SIGLADES</th>\n",
       "    </tr>\n",
       "  </thead>\n",
       "  <tbody>\n",
       "    <tr>\n",
       "      <th>6068</th>\n",
       "      <td>2017-01-19 11:00:00</td>\n",
       "      <td>200</td>\n",
       "      <td>SCEL</td>\n",
       "      <td>SPJC</td>\n",
       "      <td>LAW</td>\n",
       "      <td>2017-01-19 11:03:00</td>\n",
       "      <td></td>\n",
       "      <td>SCEL</td>\n",
       "      <td>SPJC</td>\n",
       "      <td>56R</td>\n",
       "      <td>19</td>\n",
       "      <td>1</td>\n",
       "      <td>2017</td>\n",
       "      <td>Jueves</td>\n",
       "      <td>I</td>\n",
       "      <td>Latin American Wings</td>\n",
       "      <td>Santiago</td>\n",
       "      <td>Lima</td>\n",
       "    </tr>\n",
       "  </tbody>\n",
       "</table>\n",
       "</div>"
      ],
      "text/plain": [
       "                  Fecha-I Vlo-I Ori-I Des-I Emp-I              Fecha-O Vlo-O  \\\n",
       "6068  2017-01-19 11:00:00   200  SCEL  SPJC   LAW  2017-01-19 11:03:00         \n",
       "\n",
       "     Ori-O Des-O Emp-O  DIA  MES   AÑO  DIANOM TIPOVUELO  \\\n",
       "6068  SCEL  SPJC   56R   19    1  2017  Jueves         I   \n",
       "\n",
       "                     OPERA  SIGLAORI SIGLADES  \n",
       "6068  Latin American Wings  Santiago     Lima  "
      ]
     },
     "execution_count": 8,
     "metadata": {},
     "output_type": "execute_result"
    }
   ],
   "source": [
    "# only keep numeric values in the string\n",
    "data[\"Vlo-O\"] = data[\"Vlo-O\"].map(lambda x: ''.join([i for i in str(x) if i.isdigit()]))\n",
    "data[\"Vlo-I\"] = data[\"Vlo-I\"].map(lambda x: ''.join([i for i in str(x) if i.isdigit()]))\n",
    "\n",
    "# get data where Vlo-O cannot be converted into numeric\n",
    "not_num_mask = pd.to_numeric(data[\"Vlo-O\"], errors='coerce').isna() \n",
    "data.loc[not_num_mask, :]"
   ]
  },
  {
   "cell_type": "markdown",
   "metadata": {},
   "source": [
    "Vemos que ahora solo hay un valor no numerico, que corresponde al NaN de antes; el cual se eliminará"
   ]
  },
  {
   "cell_type": "code",
   "execution_count": 9,
   "metadata": {},
   "outputs": [],
   "source": [
    "data.drop(labels=6068, axis=0, inplace=True)"
   ]
  },
  {
   "cell_type": "markdown",
   "metadata": {},
   "source": [
    "Ahora vemos que numeros de vuelo son distintos"
   ]
  },
  {
   "cell_type": "code",
   "execution_count": 10,
   "metadata": {},
   "outputs": [
    {
     "data": {
      "text/html": [
       "<div>\n",
       "<style scoped>\n",
       "    .dataframe tbody tr th:only-of-type {\n",
       "        vertical-align: middle;\n",
       "    }\n",
       "\n",
       "    .dataframe tbody tr th {\n",
       "        vertical-align: top;\n",
       "    }\n",
       "\n",
       "    .dataframe thead th {\n",
       "        text-align: right;\n",
       "    }\n",
       "</style>\n",
       "<table border=\"1\" class=\"dataframe\">\n",
       "  <thead>\n",
       "    <tr style=\"text-align: right;\">\n",
       "      <th></th>\n",
       "      <th>Fecha-I</th>\n",
       "      <th>Vlo-I</th>\n",
       "      <th>Ori-I</th>\n",
       "      <th>Des-I</th>\n",
       "      <th>Emp-I</th>\n",
       "      <th>Fecha-O</th>\n",
       "      <th>Vlo-O</th>\n",
       "      <th>Ori-O</th>\n",
       "      <th>Des-O</th>\n",
       "      <th>Emp-O</th>\n",
       "      <th>DIA</th>\n",
       "      <th>MES</th>\n",
       "      <th>AÑO</th>\n",
       "      <th>DIANOM</th>\n",
       "      <th>TIPOVUELO</th>\n",
       "      <th>OPERA</th>\n",
       "      <th>SIGLAORI</th>\n",
       "      <th>SIGLADES</th>\n",
       "    </tr>\n",
       "  </thead>\n",
       "  <tbody>\n",
       "    <tr>\n",
       "      <th>65339</th>\n",
       "      <td>2017-12-18 07:25:00</td>\n",
       "      <td>231</td>\n",
       "      <td>SCEL</td>\n",
       "      <td>SCQP</td>\n",
       "      <td>LAN</td>\n",
       "      <td>2017-12-18 07:38:00</td>\n",
       "      <td>2310</td>\n",
       "      <td>SCEL</td>\n",
       "      <td>SCQP</td>\n",
       "      <td>LXP</td>\n",
       "      <td>18</td>\n",
       "      <td>12</td>\n",
       "      <td>2017</td>\n",
       "      <td>Lunes</td>\n",
       "      <td>N</td>\n",
       "      <td>Grupo LATAM</td>\n",
       "      <td>Santiago</td>\n",
       "      <td>Temuco</td>\n",
       "    </tr>\n",
       "    <tr>\n",
       "      <th>67392</th>\n",
       "      <td>2017-12-09 12:20:00</td>\n",
       "      <td>1193</td>\n",
       "      <td>SCEL</td>\n",
       "      <td>SCCI</td>\n",
       "      <td>LAN</td>\n",
       "      <td>2017-12-09 12:20:00</td>\n",
       "      <td>11930</td>\n",
       "      <td>SCEL</td>\n",
       "      <td>SCCI</td>\n",
       "      <td>LXP</td>\n",
       "      <td>9</td>\n",
       "      <td>12</td>\n",
       "      <td>2017</td>\n",
       "      <td>Sabado</td>\n",
       "      <td>N</td>\n",
       "      <td>Grupo LATAM</td>\n",
       "      <td>Santiago</td>\n",
       "      <td>Punta Arenas</td>\n",
       "    </tr>\n",
       "    <tr>\n",
       "      <th>67949</th>\n",
       "      <td>2017-12-12 05:00:00</td>\n",
       "      <td>26</td>\n",
       "      <td>SCEL</td>\n",
       "      <td>SCFA</td>\n",
       "      <td>JAT</td>\n",
       "      <td>2017-12-12 05:16:00</td>\n",
       "      <td>260</td>\n",
       "      <td>SCEL</td>\n",
       "      <td>SCFA</td>\n",
       "      <td>JAT</td>\n",
       "      <td>12</td>\n",
       "      <td>12</td>\n",
       "      <td>2017</td>\n",
       "      <td>Martes</td>\n",
       "      <td>N</td>\n",
       "      <td>JetSmart SPA</td>\n",
       "      <td>Santiago</td>\n",
       "      <td>Antofagasta</td>\n",
       "    </tr>\n",
       "    <tr>\n",
       "      <th>67710</th>\n",
       "      <td>2017-12-07 05:00:00</td>\n",
       "      <td>50</td>\n",
       "      <td>SCEL</td>\n",
       "      <td>SCFA</td>\n",
       "      <td>LAW</td>\n",
       "      <td>2017-12-07 04:55:00</td>\n",
       "      <td>500</td>\n",
       "      <td>SCEL</td>\n",
       "      <td>SCFA</td>\n",
       "      <td>JMR</td>\n",
       "      <td>7</td>\n",
       "      <td>12</td>\n",
       "      <td>2017</td>\n",
       "      <td>Jueves</td>\n",
       "      <td>N</td>\n",
       "      <td>Latin American Wings</td>\n",
       "      <td>Santiago</td>\n",
       "      <td>Antofagasta</td>\n",
       "    </tr>\n",
       "    <tr>\n",
       "      <th>64173</th>\n",
       "      <td>2017-12-21 21:10:00</td>\n",
       "      <td>503</td>\n",
       "      <td>SCEL</td>\n",
       "      <td>SAEZ</td>\n",
       "      <td>SKU</td>\n",
       "      <td>2017-12-21 22:03:00</td>\n",
       "      <td>5030</td>\n",
       "      <td>SCEL</td>\n",
       "      <td>SAEZ</td>\n",
       "      <td>SKU</td>\n",
       "      <td>21</td>\n",
       "      <td>12</td>\n",
       "      <td>2017</td>\n",
       "      <td>Jueves</td>\n",
       "      <td>I</td>\n",
       "      <td>Sky Airline</td>\n",
       "      <td>Santiago</td>\n",
       "      <td>Buenos Aires</td>\n",
       "    </tr>\n",
       "  </tbody>\n",
       "</table>\n",
       "</div>"
      ],
      "text/plain": [
       "                   Fecha-I Vlo-I Ori-I Des-I Emp-I              Fecha-O  \\\n",
       "65339  2017-12-18 07:25:00   231  SCEL  SCQP   LAN  2017-12-18 07:38:00   \n",
       "67392  2017-12-09 12:20:00  1193  SCEL  SCCI   LAN  2017-12-09 12:20:00   \n",
       "67949  2017-12-12 05:00:00    26  SCEL  SCFA   JAT  2017-12-12 05:16:00   \n",
       "67710  2017-12-07 05:00:00    50  SCEL  SCFA   LAW  2017-12-07 04:55:00   \n",
       "64173  2017-12-21 21:10:00   503  SCEL  SAEZ   SKU  2017-12-21 22:03:00   \n",
       "\n",
       "       Vlo-O Ori-O Des-O Emp-O  DIA  MES   AÑO  DIANOM TIPOVUELO  \\\n",
       "65339   2310  SCEL  SCQP   LXP   18   12  2017   Lunes         N   \n",
       "67392  11930  SCEL  SCCI   LXP    9   12  2017  Sabado         N   \n",
       "67949    260  SCEL  SCFA   JAT   12   12  2017  Martes         N   \n",
       "67710    500  SCEL  SCFA   JMR    7   12  2017  Jueves         N   \n",
       "64173   5030  SCEL  SAEZ   SKU   21   12  2017  Jueves         I   \n",
       "\n",
       "                      OPERA  SIGLAORI      SIGLADES  \n",
       "65339           Grupo LATAM  Santiago        Temuco  \n",
       "67392           Grupo LATAM  Santiago  Punta Arenas  \n",
       "67949          JetSmart SPA  Santiago   Antofagasta  \n",
       "67710  Latin American Wings  Santiago   Antofagasta  \n",
       "64173           Sky Airline  Santiago  Buenos Aires  "
      ]
     },
     "execution_count": 10,
     "metadata": {},
     "output_type": "execute_result"
    }
   ],
   "source": [
    "# get data where Vlo-I is different from Vlo-O\n",
    "data[data[\"Vlo-I\"] != data[\"Vlo-O\"]].sample(frac = 0.001, random_state = 42)"
   ]
  },
  {
   "cell_type": "markdown",
   "metadata": {},
   "source": [
    "Vemos que ahora hay un problema con numeros de vuelo con un 0 extra al final, si se eliminace de la misma manera que el anterior, se corre el riesgo de eliminar un 0 que no sea extra, haciendo que un vuelo que si era igual, ahora no lo sea; por lo que se trabajará solo con los que ya son distintos"
   ]
  },
  {
   "cell_type": "code",
   "execution_count": 11,
   "metadata": {},
   "outputs": [
    {
     "name": "stdout",
     "output_type": "stream",
     "text": [
      "Cantidad de datos donde Vlo-I es diferente de Vlo-O: 102\n"
     ]
    },
    {
     "name": "stderr",
     "output_type": "stream",
     "text": [
      "C:\\Users\\Bastian\\AppData\\Local\\Temp\\ipykernel_14384\\988833416.py:5: SettingWithCopyWarning: \n",
      "A value is trying to be set on a copy of a slice from a DataFrame.\n",
      "Try using .loc[row_indexer,col_indexer] = value instead\n",
      "\n",
      "See the caveats in the documentation: https://pandas.pydata.org/pandas-docs/stable/user_guide/indexing.html#returning-a-view-versus-a-copy\n",
      "  data_temp[\"Vlo-O\"] = data_temp[\"Vlo-O\"].map(lambda x: x[:-1] if x[-1] == '0' else x)\n"
     ]
    },
    {
     "data": {
      "text/html": [
       "<div>\n",
       "<style scoped>\n",
       "    .dataframe tbody tr th:only-of-type {\n",
       "        vertical-align: middle;\n",
       "    }\n",
       "\n",
       "    .dataframe tbody tr th {\n",
       "        vertical-align: top;\n",
       "    }\n",
       "\n",
       "    .dataframe thead th {\n",
       "        text-align: right;\n",
       "    }\n",
       "</style>\n",
       "<table border=\"1\" class=\"dataframe\">\n",
       "  <thead>\n",
       "    <tr style=\"text-align: right;\">\n",
       "      <th></th>\n",
       "      <th>Fecha-I</th>\n",
       "      <th>Vlo-I</th>\n",
       "      <th>Ori-I</th>\n",
       "      <th>Des-I</th>\n",
       "      <th>Emp-I</th>\n",
       "      <th>Fecha-O</th>\n",
       "      <th>Vlo-O</th>\n",
       "      <th>Ori-O</th>\n",
       "      <th>Des-O</th>\n",
       "      <th>Emp-O</th>\n",
       "      <th>DIA</th>\n",
       "      <th>MES</th>\n",
       "      <th>AÑO</th>\n",
       "      <th>DIANOM</th>\n",
       "      <th>TIPOVUELO</th>\n",
       "      <th>OPERA</th>\n",
       "      <th>SIGLAORI</th>\n",
       "      <th>SIGLADES</th>\n",
       "    </tr>\n",
       "  </thead>\n",
       "  <tbody>\n",
       "    <tr>\n",
       "      <th>11605</th>\n",
       "      <td>2017-02-20 21:40:00</td>\n",
       "      <td>4503</td>\n",
       "      <td>SCEL</td>\n",
       "      <td>SAEZ</td>\n",
       "      <td>LAN</td>\n",
       "      <td>2017-02-20 23:05:00</td>\n",
       "      <td>1003</td>\n",
       "      <td>SCEL</td>\n",
       "      <td>SAEZ</td>\n",
       "      <td>LAN</td>\n",
       "      <td>20.0</td>\n",
       "      <td>2.0</td>\n",
       "      <td>2017.0</td>\n",
       "      <td>Lunes</td>\n",
       "      <td>I</td>\n",
       "      <td>Grupo LATAM</td>\n",
       "      <td>Santiago</td>\n",
       "      <td>Buenos Aires</td>\n",
       "    </tr>\n",
       "    <tr>\n",
       "      <th>26712</th>\n",
       "      <td>2017-05-26 08:10:00</td>\n",
       "      <td>600</td>\n",
       "      <td>SCEL</td>\n",
       "      <td>SPJC</td>\n",
       "      <td>LAN</td>\n",
       "      <td>2017-05-26 08:17:00</td>\n",
       "      <td>116</td>\n",
       "      <td>SCEL</td>\n",
       "      <td>SPJC</td>\n",
       "      <td>LAN</td>\n",
       "      <td>26.0</td>\n",
       "      <td>5.0</td>\n",
       "      <td>2017.0</td>\n",
       "      <td>Viernes</td>\n",
       "      <td>I</td>\n",
       "      <td>Grupo LATAM</td>\n",
       "      <td>Santiago</td>\n",
       "      <td>Lima</td>\n",
       "    </tr>\n",
       "    <tr>\n",
       "      <th>17087</th>\n",
       "      <td>2017-03-26 14:00:00</td>\n",
       "      <td>204</td>\n",
       "      <td>SCEL</td>\n",
       "      <td>SPJC</td>\n",
       "      <td>LAW</td>\n",
       "      <td>2017-03-26 15:18:00</td>\n",
       "      <td>202</td>\n",
       "      <td>SCEL</td>\n",
       "      <td>SPJC</td>\n",
       "      <td>JMR</td>\n",
       "      <td>26.0</td>\n",
       "      <td>3.0</td>\n",
       "      <td>2017.0</td>\n",
       "      <td>Domingo</td>\n",
       "      <td>I</td>\n",
       "      <td>Latin American Wings</td>\n",
       "      <td>Santiago</td>\n",
       "      <td>Lima</td>\n",
       "    </tr>\n",
       "    <tr>\n",
       "      <th>16170</th>\n",
       "      <td>2017-03-15 23:20:00</td>\n",
       "      <td>532</td>\n",
       "      <td>SCEL</td>\n",
       "      <td>KJFK</td>\n",
       "      <td>LAN</td>\n",
       "      <td>2017-03-15 23:18:00</td>\n",
       "      <td>1318</td>\n",
       "      <td>SCEL</td>\n",
       "      <td>KJFK</td>\n",
       "      <td>LAN</td>\n",
       "      <td>15.0</td>\n",
       "      <td>3.0</td>\n",
       "      <td>2017.0</td>\n",
       "      <td>Miercoles</td>\n",
       "      <td>I</td>\n",
       "      <td>Grupo LATAM</td>\n",
       "      <td>Santiago</td>\n",
       "      <td>Nueva York</td>\n",
       "    </tr>\n",
       "    <tr>\n",
       "      <th>13907</th>\n",
       "      <td>2017-03-22 11:00:00</td>\n",
       "      <td>1071</td>\n",
       "      <td>SCEL</td>\n",
       "      <td>SCIE</td>\n",
       "      <td>SKU</td>\n",
       "      <td>2017-03-22 11:00:00</td>\n",
       "      <td>71</td>\n",
       "      <td>SCEL</td>\n",
       "      <td>SCIE</td>\n",
       "      <td>SKU</td>\n",
       "      <td>22.0</td>\n",
       "      <td>3.0</td>\n",
       "      <td>2017.0</td>\n",
       "      <td>Miercoles</td>\n",
       "      <td>N</td>\n",
       "      <td>Sky Airline</td>\n",
       "      <td>Santiago</td>\n",
       "      <td>Concepcion</td>\n",
       "    </tr>\n",
       "    <tr>\n",
       "      <th>11645</th>\n",
       "      <td>2017-02-17 01:15:00</td>\n",
       "      <td>702</td>\n",
       "      <td>SCEL</td>\n",
       "      <td>SPJC</td>\n",
       "      <td>LAW</td>\n",
       "      <td>2017-02-17 02:20:00</td>\n",
       "      <td>70</td>\n",
       "      <td>SCEL</td>\n",
       "      <td>SPJC</td>\n",
       "      <td>JMR</td>\n",
       "      <td>17.0</td>\n",
       "      <td>2.0</td>\n",
       "      <td>2017.0</td>\n",
       "      <td>Viernes</td>\n",
       "      <td>I</td>\n",
       "      <td>Latin American Wings</td>\n",
       "      <td>Santiago</td>\n",
       "      <td>Lima</td>\n",
       "    </tr>\n",
       "    <tr>\n",
       "      <th>39199</th>\n",
       "      <td>2017-08-17 17:25:00</td>\n",
       "      <td>624</td>\n",
       "      <td>SCEL</td>\n",
       "      <td>SPJC</td>\n",
       "      <td>AVA</td>\n",
       "      <td>2017-08-17 19:21:00</td>\n",
       "      <td>5924</td>\n",
       "      <td>SCEL</td>\n",
       "      <td>SPJC</td>\n",
       "      <td>TPU</td>\n",
       "      <td>17.0</td>\n",
       "      <td>8.0</td>\n",
       "      <td>2017.0</td>\n",
       "      <td>Jueves</td>\n",
       "      <td>I</td>\n",
       "      <td>Avianca</td>\n",
       "      <td>Santiago</td>\n",
       "      <td>Lima</td>\n",
       "    </tr>\n",
       "    <tr>\n",
       "      <th>16090</th>\n",
       "      <td>2017-03-18 23:35:00</td>\n",
       "      <td>500</td>\n",
       "      <td>SCEL</td>\n",
       "      <td>KMIA</td>\n",
       "      <td>LAN</td>\n",
       "      <td>2017-03-18 23:42:00</td>\n",
       "      <td>134</td>\n",
       "      <td>SCEL</td>\n",
       "      <td>KMIA</td>\n",
       "      <td>LAN</td>\n",
       "      <td>18.0</td>\n",
       "      <td>3.0</td>\n",
       "      <td>2017.0</td>\n",
       "      <td>Sabado</td>\n",
       "      <td>I</td>\n",
       "      <td>Grupo LATAM</td>\n",
       "      <td>Santiago</td>\n",
       "      <td>Miami</td>\n",
       "    </tr>\n",
       "    <tr>\n",
       "      <th>6095</th>\n",
       "      <td>2017-01-05 01:15:00</td>\n",
       "      <td>704</td>\n",
       "      <td>SCEL</td>\n",
       "      <td>SPJC</td>\n",
       "      <td>LAW</td>\n",
       "      <td>2017-01-05 01:15:00</td>\n",
       "      <td>708</td>\n",
       "      <td>SCEL</td>\n",
       "      <td>SPJC</td>\n",
       "      <td>56R</td>\n",
       "      <td>5.0</td>\n",
       "      <td>1.0</td>\n",
       "      <td>2017.0</td>\n",
       "      <td>Jueves</td>\n",
       "      <td>I</td>\n",
       "      <td>Latin American Wings</td>\n",
       "      <td>Santiago</td>\n",
       "      <td>Lima</td>\n",
       "    </tr>\n",
       "    <tr>\n",
       "      <th>6018</th>\n",
       "      <td>2017-01-05 07:05:00</td>\n",
       "      <td>4501</td>\n",
       "      <td>SCEL</td>\n",
       "      <td>SAEZ</td>\n",
       "      <td>LAN</td>\n",
       "      <td>2017-01-05 09:36:00</td>\n",
       "      <td>1001</td>\n",
       "      <td>SCEL</td>\n",
       "      <td>SAEZ</td>\n",
       "      <td>LAN</td>\n",
       "      <td>5.0</td>\n",
       "      <td>1.0</td>\n",
       "      <td>2017.0</td>\n",
       "      <td>Jueves</td>\n",
       "      <td>I</td>\n",
       "      <td>Grupo LATAM</td>\n",
       "      <td>Santiago</td>\n",
       "      <td>Buenos Aires</td>\n",
       "    </tr>\n",
       "  </tbody>\n",
       "</table>\n",
       "</div>"
      ],
      "text/plain": [
       "                   Fecha-I Vlo-I Ori-I Des-I Emp-I              Fecha-O Vlo-O  \\\n",
       "11605  2017-02-20 21:40:00  4503  SCEL  SAEZ   LAN  2017-02-20 23:05:00  1003   \n",
       "26712  2017-05-26 08:10:00   600  SCEL  SPJC   LAN  2017-05-26 08:17:00   116   \n",
       "17087  2017-03-26 14:00:00   204  SCEL  SPJC   LAW  2017-03-26 15:18:00   202   \n",
       "16170  2017-03-15 23:20:00   532  SCEL  KJFK   LAN  2017-03-15 23:18:00  1318   \n",
       "13907  2017-03-22 11:00:00  1071  SCEL  SCIE   SKU  2017-03-22 11:00:00    71   \n",
       "11645  2017-02-17 01:15:00   702  SCEL  SPJC   LAW  2017-02-17 02:20:00    70   \n",
       "39199  2017-08-17 17:25:00   624  SCEL  SPJC   AVA  2017-08-17 19:21:00  5924   \n",
       "16090  2017-03-18 23:35:00   500  SCEL  KMIA   LAN  2017-03-18 23:42:00   134   \n",
       "6095   2017-01-05 01:15:00   704  SCEL  SPJC   LAW  2017-01-05 01:15:00   708   \n",
       "6018   2017-01-05 07:05:00  4501  SCEL  SAEZ   LAN  2017-01-05 09:36:00  1001   \n",
       "\n",
       "      Ori-O Des-O Emp-O   DIA  MES     AÑO     DIANOM TIPOVUELO  \\\n",
       "11605  SCEL  SAEZ   LAN  20.0  2.0  2017.0      Lunes         I   \n",
       "26712  SCEL  SPJC   LAN  26.0  5.0  2017.0    Viernes         I   \n",
       "17087  SCEL  SPJC   JMR  26.0  3.0  2017.0    Domingo         I   \n",
       "16170  SCEL  KJFK   LAN  15.0  3.0  2017.0  Miercoles         I   \n",
       "13907  SCEL  SCIE   SKU  22.0  3.0  2017.0  Miercoles         N   \n",
       "11645  SCEL  SPJC   JMR  17.0  2.0  2017.0    Viernes         I   \n",
       "39199  SCEL  SPJC   TPU  17.0  8.0  2017.0     Jueves         I   \n",
       "16090  SCEL  KMIA   LAN  18.0  3.0  2017.0     Sabado         I   \n",
       "6095   SCEL  SPJC   56R   5.0  1.0  2017.0     Jueves         I   \n",
       "6018   SCEL  SAEZ   LAN   5.0  1.0  2017.0     Jueves         I   \n",
       "\n",
       "                      OPERA  SIGLAORI      SIGLADES  \n",
       "11605           Grupo LATAM  Santiago  Buenos Aires  \n",
       "26712           Grupo LATAM  Santiago          Lima  \n",
       "17087  Latin American Wings  Santiago          Lima  \n",
       "16170           Grupo LATAM  Santiago    Nueva York  \n",
       "13907           Sky Airline  Santiago    Concepcion  \n",
       "11645  Latin American Wings  Santiago          Lima  \n",
       "39199               Avianca  Santiago          Lima  \n",
       "16090           Grupo LATAM  Santiago         Miami  \n",
       "6095   Latin American Wings  Santiago          Lima  \n",
       "6018            Grupo LATAM  Santiago  Buenos Aires  "
      ]
     },
     "execution_count": 11,
     "metadata": {},
     "output_type": "execute_result"
    }
   ],
   "source": [
    "# create temp dataframe where Vlo-I is different from Vlo-O\n",
    "data_temp = data[data[\"Vlo-I\"] != data[\"Vlo-O\"]]\n",
    "\n",
    "# ignore the last character if it is a '0'\n",
    "data_temp[\"Vlo-O\"] = data_temp[\"Vlo-O\"].map(lambda x: x[:-1] if x[-1] == '0' else x)\n",
    "\n",
    "# update original dataframe with the new values\n",
    "data.update(data_temp)\n",
    "\n",
    "# get data where Vlo-I is different from Vlo-O\n",
    "data_dif = data[data[\"Vlo-I\"] != data[\"Vlo-O\"]]\n",
    "print(f'Cantidad de datos donde Vlo-I es diferente de Vlo-O: {data_dif.shape[0]}')\n",
    "data_dif.sample(frac = 0.1, random_state = 42)"
   ]
  },
  {
   "cell_type": "markdown",
   "metadata": {},
   "source": [
    "Vemos que los casos donde no coinciden los numeros de vuelo ya no se pueden arreglar facilmente, pero son muchos menos que antes, son solo 102"
   ]
  },
  {
   "cell_type": "markdown",
   "metadata": {},
   "source": [
    "Pasando a verificar la integridad de otras columnas, revisamos 'DIA', 'MES', y 'AÑO'"
   ]
  },
  {
   "cell_type": "code",
   "execution_count": 12,
   "metadata": {},
   "outputs": [
    {
     "name": "stdout",
     "output_type": "stream",
     "text": [
      "Column: DIA\n",
      "[ 1  2  3  4  5  7  8 10 12 14 16 18 21 23 25 28 30  6  9 11 13 15 17 19\n",
      " 22 24 26 27 29 31 20]\n",
      "Column: MES\n",
      "[ 1  2  3  4  5  6  7  8  9 10 11 12]\n",
      "Column: AÑO\n",
      "[2017 2018]\n"
     ]
    }
   ],
   "source": [
    "# change dtype to int, and print unique values\n",
    "data.loc[:, ['DIA', 'MES', 'AÑO']] = data[['DIA', 'MES', 'AÑO']].astype(int)\n",
    "for col in ['DIA', 'MES', 'AÑO']:\n",
    "    print(f'Column: {col}\\n{data[col].unique()}')\n"
   ]
  },
  {
   "cell_type": "markdown",
   "metadata": {},
   "source": [
    "Vemos que pueden ser convertidos en int sin problemas, y los numeros tienen sentido, dia va de 1 a 31, mes de 1 a 12, y año 2017 a 2018 "
   ]
  },
  {
   "cell_type": "markdown",
   "metadata": {},
   "source": [
    "Revisamos ahora los valores unicos de las demas columnas con texto, por ser extenso, comenzamos por Ori, Des y Emp"
   ]
  },
  {
   "cell_type": "code",
   "execution_count": 13,
   "metadata": {},
   "outputs": [
    {
     "name": "stdout",
     "output_type": "stream",
     "text": [
      "Column: Ori-I\n",
      "['SCEL']\n",
      "Column: Ori-O\n",
      "['SCEL']\n",
      "Column: Des-I\n",
      "['CYYZ', 'EGLL', 'EGYP', 'KATL', 'KDFW', 'KIAH', 'KJFK', 'KLAX', 'KMCO', 'KMIA', 'LEMD', 'LFPG', 'LIRF', 'MDPC', 'MMMX', 'MMUN', 'MPTO', 'NZAA', 'SAAR', 'SABE', 'SACO', 'SAEZ', 'SAME', 'SANT', 'SANU', 'SARI', 'SAWH', 'SAZN', 'SAZS', 'SBCT', 'SBFI', 'SBFL', 'SBGL', 'SBGR', 'SCAR', 'SCAT', 'SCBA', 'SCCF', 'SCCI', 'SCDA', 'SCFA', 'SCIE', 'SCIP', 'SCJO', 'SCNT', 'SCPQ', 'SCQP', 'SCSE', 'SCTE', 'SCVD', 'SEGU', 'SEQM', 'SEQU', 'SGAS', 'SKBO', 'SLCB', 'SLLP', 'SLVR', 'SPJC', 'SPSO', 'SULS', 'SUMU', 'YMML', 'YSSY']\n",
      "Column: Des-O\n",
      "['CYYZ', 'EGLL', 'EGYP', 'KATL', 'KDFW', 'KIAD', 'KIAH', 'KJFK', 'KLAX', 'KMCO', 'KMIA', 'LEMD', 'LFPG', 'LIRF', 'MDPC', 'MMMX', 'MMUN', 'MPTO', 'NZAA', 'SAAR', 'SABE', 'SACO', 'SAEZ', 'SAME', 'SANT', 'SANU', 'SAWH', 'SAZN', 'SAZS', 'SBCT', 'SBFI', 'SBFL', 'SBGL', 'SBGR', 'SCAR', 'SCAT', 'SCBA', 'SCCF', 'SCCI', 'SCDA', 'SCFA', 'SCIE', 'SCIP', 'SCJO', 'SCNT', 'SCPQ', 'SCQP', 'SCSE', 'SCTE', 'SCVD', 'SEGU', 'SEQM', 'SGAS', 'SKBO', 'SLCB', 'SLLP', 'SLVR', 'SPJC', 'SPSO', 'SULS', 'SUMU', 'YMML', 'YSSY']\n",
      "Column: Emp-I\n",
      "['AAL', 'ACA', 'AFR', 'AMX', 'ARG', 'AUT', 'AVA', 'AZA', 'BAW', 'CMP', 'DAL', 'DSM', 'GLO', 'IBE', 'JAT', 'JMR', 'KLM', 'LAN', 'LAP', 'LAW', 'LNE', 'LPE', 'LRC', 'LXP', 'ONE', 'PUE', 'QFU', 'SKU', 'TAM', 'UAL']\n",
      "Column: Emp-O\n",
      "['48O', '56R', 'AAL', 'ACA', 'AFR', 'AMX', 'ARG', 'AUT', 'AVA', 'AZA', 'BAW', 'CMP', 'DAL', 'DSM', 'GLO', 'IBE', 'JAT', 'JMR', 'KLM', 'LAN', 'LAP', 'LNE', 'LPE', 'LRC', 'LXP', 'ONE', 'PUE', 'QFA', 'SKU', 'TAM', 'TPU', 'UAL']\n"
     ]
    }
   ],
   "source": [
    "for col in ['Ori-I', 'Ori-O', 'Des-I', 'Des-O', 'Emp-I', 'Emp-O']:\n",
    "    print(f'Column: {col}\\n{sorted(data[col].unique())}')"
   ]
  },
  {
   "cell_type": "markdown",
   "metadata": {},
   "source": [
    "Vemos que en general las siglas son similares y tienen sentido, salvo por Emp-O que contiene '48O' y '56R' como sigla de aerolinea"
   ]
  },
  {
   "cell_type": "code",
   "execution_count": 14,
   "metadata": {},
   "outputs": [
    {
     "name": "stdout",
     "output_type": "stream",
     "text": [
      "Cantidad de datos donde Emp-O es 48O o 56R: 26\n"
     ]
    },
    {
     "data": {
      "text/html": [
       "<div>\n",
       "<style scoped>\n",
       "    .dataframe tbody tr th:only-of-type {\n",
       "        vertical-align: middle;\n",
       "    }\n",
       "\n",
       "    .dataframe tbody tr th {\n",
       "        vertical-align: top;\n",
       "    }\n",
       "\n",
       "    .dataframe thead th {\n",
       "        text-align: right;\n",
       "    }\n",
       "</style>\n",
       "<table border=\"1\" class=\"dataframe\">\n",
       "  <thead>\n",
       "    <tr style=\"text-align: right;\">\n",
       "      <th></th>\n",
       "      <th>Fecha-I</th>\n",
       "      <th>Vlo-I</th>\n",
       "      <th>Ori-I</th>\n",
       "      <th>Des-I</th>\n",
       "      <th>Emp-I</th>\n",
       "      <th>Fecha-O</th>\n",
       "      <th>Vlo-O</th>\n",
       "      <th>Ori-O</th>\n",
       "      <th>Des-O</th>\n",
       "      <th>Emp-O</th>\n",
       "      <th>DIA</th>\n",
       "      <th>MES</th>\n",
       "      <th>AÑO</th>\n",
       "      <th>DIANOM</th>\n",
       "      <th>TIPOVUELO</th>\n",
       "      <th>OPERA</th>\n",
       "      <th>SIGLAORI</th>\n",
       "      <th>SIGLADES</th>\n",
       "    </tr>\n",
       "  </thead>\n",
       "  <tbody>\n",
       "    <tr>\n",
       "      <th>6066</th>\n",
       "      <td>2017-01-16 11:00:00</td>\n",
       "      <td>200</td>\n",
       "      <td>SCEL</td>\n",
       "      <td>SPJC</td>\n",
       "      <td>LAW</td>\n",
       "      <td>2017-01-16 11:09:00</td>\n",
       "      <td>200</td>\n",
       "      <td>SCEL</td>\n",
       "      <td>SPJC</td>\n",
       "      <td>48O</td>\n",
       "      <td>16</td>\n",
       "      <td>1</td>\n",
       "      <td>2017</td>\n",
       "      <td>Lunes</td>\n",
       "      <td>I</td>\n",
       "      <td>Latin American Wings</td>\n",
       "      <td>Santiago</td>\n",
       "      <td>Lima</td>\n",
       "    </tr>\n",
       "    <tr>\n",
       "      <th>6086</th>\n",
       "      <td>2017-01-18 01:15:00</td>\n",
       "      <td>700</td>\n",
       "      <td>SCEL</td>\n",
       "      <td>SPJC</td>\n",
       "      <td>LAW</td>\n",
       "      <td>2017-01-18 01:36:00</td>\n",
       "      <td>702</td>\n",
       "      <td>SCEL</td>\n",
       "      <td>SPJC</td>\n",
       "      <td>56R</td>\n",
       "      <td>18</td>\n",
       "      <td>1</td>\n",
       "      <td>2017</td>\n",
       "      <td>Miercoles</td>\n",
       "      <td>I</td>\n",
       "      <td>Latin American Wings</td>\n",
       "      <td>Santiago</td>\n",
       "      <td>Lima</td>\n",
       "    </tr>\n",
       "    <tr>\n",
       "      <th>6058</th>\n",
       "      <td>2017-01-01 11:00:00</td>\n",
       "      <td>200</td>\n",
       "      <td>SCEL</td>\n",
       "      <td>SPJC</td>\n",
       "      <td>LAW</td>\n",
       "      <td>2017-01-01 11:07:00</td>\n",
       "      <td>200</td>\n",
       "      <td>SCEL</td>\n",
       "      <td>SPJC</td>\n",
       "      <td>48O</td>\n",
       "      <td>1</td>\n",
       "      <td>1</td>\n",
       "      <td>2017</td>\n",
       "      <td>Domingo</td>\n",
       "      <td>I</td>\n",
       "      <td>Latin American Wings</td>\n",
       "      <td>Santiago</td>\n",
       "      <td>Lima</td>\n",
       "    </tr>\n",
       "    <tr>\n",
       "      <th>6101</th>\n",
       "      <td>2017-01-19 01:15:00</td>\n",
       "      <td>704</td>\n",
       "      <td>SCEL</td>\n",
       "      <td>SPJC</td>\n",
       "      <td>LAW</td>\n",
       "      <td>2017-01-19 01:15:00</td>\n",
       "      <td>704</td>\n",
       "      <td>SCEL</td>\n",
       "      <td>SPJC</td>\n",
       "      <td>56R</td>\n",
       "      <td>19</td>\n",
       "      <td>1</td>\n",
       "      <td>2017</td>\n",
       "      <td>Jueves</td>\n",
       "      <td>I</td>\n",
       "      <td>Latin American Wings</td>\n",
       "      <td>Santiago</td>\n",
       "      <td>Lima</td>\n",
       "    </tr>\n",
       "    <tr>\n",
       "      <th>6080</th>\n",
       "      <td>2017-01-06 01:15:00</td>\n",
       "      <td>700</td>\n",
       "      <td>SCEL</td>\n",
       "      <td>SPJC</td>\n",
       "      <td>LAW</td>\n",
       "      <td>2017-01-06 02:18:00</td>\n",
       "      <td>700</td>\n",
       "      <td>SCEL</td>\n",
       "      <td>SPJC</td>\n",
       "      <td>56R</td>\n",
       "      <td>6</td>\n",
       "      <td>1</td>\n",
       "      <td>2017</td>\n",
       "      <td>Viernes</td>\n",
       "      <td>I</td>\n",
       "      <td>Latin American Wings</td>\n",
       "      <td>Santiago</td>\n",
       "      <td>Lima</td>\n",
       "    </tr>\n",
       "  </tbody>\n",
       "</table>\n",
       "</div>"
      ],
      "text/plain": [
       "                  Fecha-I Vlo-I Ori-I Des-I Emp-I              Fecha-O Vlo-O  \\\n",
       "6066  2017-01-16 11:00:00   200  SCEL  SPJC   LAW  2017-01-16 11:09:00   200   \n",
       "6086  2017-01-18 01:15:00   700  SCEL  SPJC   LAW  2017-01-18 01:36:00   702   \n",
       "6058  2017-01-01 11:00:00   200  SCEL  SPJC   LAW  2017-01-01 11:07:00   200   \n",
       "6101  2017-01-19 01:15:00   704  SCEL  SPJC   LAW  2017-01-19 01:15:00   704   \n",
       "6080  2017-01-06 01:15:00   700  SCEL  SPJC   LAW  2017-01-06 02:18:00   700   \n",
       "\n",
       "     Ori-O Des-O Emp-O  DIA  MES   AÑO     DIANOM TIPOVUELO  \\\n",
       "6066  SCEL  SPJC   48O   16    1  2017      Lunes         I   \n",
       "6086  SCEL  SPJC   56R   18    1  2017  Miercoles         I   \n",
       "6058  SCEL  SPJC   48O    1    1  2017    Domingo         I   \n",
       "6101  SCEL  SPJC   56R   19    1  2017     Jueves         I   \n",
       "6080  SCEL  SPJC   56R    6    1  2017    Viernes         I   \n",
       "\n",
       "                     OPERA  SIGLAORI SIGLADES  \n",
       "6066  Latin American Wings  Santiago     Lima  \n",
       "6086  Latin American Wings  Santiago     Lima  \n",
       "6058  Latin American Wings  Santiago     Lima  \n",
       "6101  Latin American Wings  Santiago     Lima  \n",
       "6080  Latin American Wings  Santiago     Lima  "
      ]
     },
     "execution_count": 14,
     "metadata": {},
     "output_type": "execute_result"
    }
   ],
   "source": [
    "data_emp_error = data[data['Emp-O'].isin(['48O', '56R'])]\n",
    "print(f'Cantidad de datos donde Emp-O es 48O o 56R: {data_emp_error.shape[0]}')\n",
    "data_emp_error.sample(frac = 0.2, random_state = 42)"
   ]
  },
  {
   "cell_type": "markdown",
   "metadata": {},
   "source": [
    "Efectivamente, estos parecen ser errores de algun tipo, de todas maneras, son solo 26 datos"
   ]
  },
  {
   "cell_type": "markdown",
   "metadata": {},
   "source": [
    "Finalmente, solo queda comprobar que los tiempos de vuelo puedan ser convertidos a datetime"
   ]
  },
  {
   "cell_type": "code",
   "execution_count": 15,
   "metadata": {},
   "outputs": [
    {
     "data": {
      "text/html": [
       "<div>\n",
       "<style scoped>\n",
       "    .dataframe tbody tr th:only-of-type {\n",
       "        vertical-align: middle;\n",
       "    }\n",
       "\n",
       "    .dataframe tbody tr th {\n",
       "        vertical-align: top;\n",
       "    }\n",
       "\n",
       "    .dataframe thead th {\n",
       "        text-align: right;\n",
       "    }\n",
       "</style>\n",
       "<table border=\"1\" class=\"dataframe\">\n",
       "  <thead>\n",
       "    <tr style=\"text-align: right;\">\n",
       "      <th></th>\n",
       "      <th>Fecha-I</th>\n",
       "      <th>Vlo-I</th>\n",
       "      <th>Ori-I</th>\n",
       "      <th>Des-I</th>\n",
       "      <th>Emp-I</th>\n",
       "      <th>Fecha-O</th>\n",
       "      <th>Vlo-O</th>\n",
       "      <th>Ori-O</th>\n",
       "      <th>Des-O</th>\n",
       "      <th>Emp-O</th>\n",
       "      <th>DIA</th>\n",
       "      <th>MES</th>\n",
       "      <th>AÑO</th>\n",
       "      <th>DIANOM</th>\n",
       "      <th>TIPOVUELO</th>\n",
       "      <th>OPERA</th>\n",
       "      <th>SIGLAORI</th>\n",
       "      <th>SIGLADES</th>\n",
       "    </tr>\n",
       "  </thead>\n",
       "  <tbody>\n",
       "    <tr>\n",
       "      <th>0</th>\n",
       "      <td>2017-01-01 23:30:00</td>\n",
       "      <td>226</td>\n",
       "      <td>SCEL</td>\n",
       "      <td>KMIA</td>\n",
       "      <td>AAL</td>\n",
       "      <td>2017-01-01 23:33:00</td>\n",
       "      <td>226</td>\n",
       "      <td>SCEL</td>\n",
       "      <td>KMIA</td>\n",
       "      <td>AAL</td>\n",
       "      <td>1</td>\n",
       "      <td>1</td>\n",
       "      <td>2017</td>\n",
       "      <td>Domingo</td>\n",
       "      <td>I</td>\n",
       "      <td>American Airlines</td>\n",
       "      <td>Santiago</td>\n",
       "      <td>Miami</td>\n",
       "    </tr>\n",
       "    <tr>\n",
       "      <th>1</th>\n",
       "      <td>2017-01-02 23:30:00</td>\n",
       "      <td>226</td>\n",
       "      <td>SCEL</td>\n",
       "      <td>KMIA</td>\n",
       "      <td>AAL</td>\n",
       "      <td>2017-01-02 23:39:00</td>\n",
       "      <td>226</td>\n",
       "      <td>SCEL</td>\n",
       "      <td>KMIA</td>\n",
       "      <td>AAL</td>\n",
       "      <td>2</td>\n",
       "      <td>1</td>\n",
       "      <td>2017</td>\n",
       "      <td>Lunes</td>\n",
       "      <td>I</td>\n",
       "      <td>American Airlines</td>\n",
       "      <td>Santiago</td>\n",
       "      <td>Miami</td>\n",
       "    </tr>\n",
       "    <tr>\n",
       "      <th>2</th>\n",
       "      <td>2017-01-03 23:30:00</td>\n",
       "      <td>226</td>\n",
       "      <td>SCEL</td>\n",
       "      <td>KMIA</td>\n",
       "      <td>AAL</td>\n",
       "      <td>2017-01-03 23:39:00</td>\n",
       "      <td>226</td>\n",
       "      <td>SCEL</td>\n",
       "      <td>KMIA</td>\n",
       "      <td>AAL</td>\n",
       "      <td>3</td>\n",
       "      <td>1</td>\n",
       "      <td>2017</td>\n",
       "      <td>Martes</td>\n",
       "      <td>I</td>\n",
       "      <td>American Airlines</td>\n",
       "      <td>Santiago</td>\n",
       "      <td>Miami</td>\n",
       "    </tr>\n",
       "    <tr>\n",
       "      <th>3</th>\n",
       "      <td>2017-01-04 23:30:00</td>\n",
       "      <td>226</td>\n",
       "      <td>SCEL</td>\n",
       "      <td>KMIA</td>\n",
       "      <td>AAL</td>\n",
       "      <td>2017-01-04 23:33:00</td>\n",
       "      <td>226</td>\n",
       "      <td>SCEL</td>\n",
       "      <td>KMIA</td>\n",
       "      <td>AAL</td>\n",
       "      <td>4</td>\n",
       "      <td>1</td>\n",
       "      <td>2017</td>\n",
       "      <td>Miercoles</td>\n",
       "      <td>I</td>\n",
       "      <td>American Airlines</td>\n",
       "      <td>Santiago</td>\n",
       "      <td>Miami</td>\n",
       "    </tr>\n",
       "    <tr>\n",
       "      <th>4</th>\n",
       "      <td>2017-01-05 23:30:00</td>\n",
       "      <td>226</td>\n",
       "      <td>SCEL</td>\n",
       "      <td>KMIA</td>\n",
       "      <td>AAL</td>\n",
       "      <td>2017-01-05 23:28:00</td>\n",
       "      <td>226</td>\n",
       "      <td>SCEL</td>\n",
       "      <td>KMIA</td>\n",
       "      <td>AAL</td>\n",
       "      <td>5</td>\n",
       "      <td>1</td>\n",
       "      <td>2017</td>\n",
       "      <td>Jueves</td>\n",
       "      <td>I</td>\n",
       "      <td>American Airlines</td>\n",
       "      <td>Santiago</td>\n",
       "      <td>Miami</td>\n",
       "    </tr>\n",
       "  </tbody>\n",
       "</table>\n",
       "</div>"
      ],
      "text/plain": [
       "              Fecha-I Vlo-I Ori-I Des-I Emp-I             Fecha-O Vlo-O Ori-O  \\\n",
       "0 2017-01-01 23:30:00   226  SCEL  KMIA   AAL 2017-01-01 23:33:00   226  SCEL   \n",
       "1 2017-01-02 23:30:00   226  SCEL  KMIA   AAL 2017-01-02 23:39:00   226  SCEL   \n",
       "2 2017-01-03 23:30:00   226  SCEL  KMIA   AAL 2017-01-03 23:39:00   226  SCEL   \n",
       "3 2017-01-04 23:30:00   226  SCEL  KMIA   AAL 2017-01-04 23:33:00   226  SCEL   \n",
       "4 2017-01-05 23:30:00   226  SCEL  KMIA   AAL 2017-01-05 23:28:00   226  SCEL   \n",
       "\n",
       "  Des-O Emp-O  DIA  MES   AÑO     DIANOM TIPOVUELO              OPERA  \\\n",
       "0  KMIA   AAL    1    1  2017    Domingo         I  American Airlines   \n",
       "1  KMIA   AAL    2    1  2017      Lunes         I  American Airlines   \n",
       "2  KMIA   AAL    3    1  2017     Martes         I  American Airlines   \n",
       "3  KMIA   AAL    4    1  2017  Miercoles         I  American Airlines   \n",
       "4  KMIA   AAL    5    1  2017     Jueves         I  American Airlines   \n",
       "\n",
       "   SIGLAORI SIGLADES  \n",
       "0  Santiago    Miami  \n",
       "1  Santiago    Miami  \n",
       "2  Santiago    Miami  \n",
       "3  Santiago    Miami  \n",
       "4  Santiago    Miami  "
      ]
     },
     "execution_count": 15,
     "metadata": {},
     "output_type": "execute_result"
    }
   ],
   "source": [
    "data['Fecha-I'] = pd.to_datetime(data['Fecha-I'], format='%Y-%m-%d %H:%M:%S')\n",
    "data['Fecha-O'] = pd.to_datetime(data['Fecha-O'], format='%Y-%m-%d %H:%M:%S')\n",
    "data.head(5)"
   ]
  },
  {
   "cell_type": "markdown",
   "metadata": {},
   "source": [
    "Y funciona sin problemas"
   ]
  },
  {
   "cell_type": "markdown",
   "metadata": {},
   "source": [
    "### Guardar datos limpios"
   ]
  },
  {
   "cell_type": "markdown",
   "metadata": {},
   "source": [
    "Ahora que le han solucionado todos los problemas encontrados, solo queda decidir que hacer con los casos donde el numero de vuelo programado y de operacion no coinciden, ademas de los casos donde la sigla de la empresa aerolinea contiene numeros (Lo cual podria no ser un error). Considerando que la cantidad de filas originales es 68206, y las lineas con problemas son 102 + 26, lo que corresponde a menos del 0.2% de los datos, estos simplemente se eliminarán."
   ]
  },
  {
   "cell_type": "code",
   "execution_count": 16,
   "metadata": {},
   "outputs": [
    {
     "name": "stdout",
     "output_type": "stream",
     "text": [
      "Shape of dataframe: (68081, 18)\n"
     ]
    },
    {
     "data": {
      "text/html": [
       "<div>\n",
       "<style scoped>\n",
       "    .dataframe tbody tr th:only-of-type {\n",
       "        vertical-align: middle;\n",
       "    }\n",
       "\n",
       "    .dataframe tbody tr th {\n",
       "        vertical-align: top;\n",
       "    }\n",
       "\n",
       "    .dataframe thead th {\n",
       "        text-align: right;\n",
       "    }\n",
       "</style>\n",
       "<table border=\"1\" class=\"dataframe\">\n",
       "  <thead>\n",
       "    <tr style=\"text-align: right;\">\n",
       "      <th></th>\n",
       "      <th>Fecha-I</th>\n",
       "      <th>Vlo-I</th>\n",
       "      <th>Ori-I</th>\n",
       "      <th>Des-I</th>\n",
       "      <th>Emp-I</th>\n",
       "      <th>Fecha-O</th>\n",
       "      <th>Vlo-O</th>\n",
       "      <th>Ori-O</th>\n",
       "      <th>Des-O</th>\n",
       "      <th>Emp-O</th>\n",
       "      <th>DIA</th>\n",
       "      <th>MES</th>\n",
       "      <th>AÑO</th>\n",
       "      <th>DIANOM</th>\n",
       "      <th>TIPOVUELO</th>\n",
       "      <th>OPERA</th>\n",
       "      <th>SIGLAORI</th>\n",
       "      <th>SIGLADES</th>\n",
       "    </tr>\n",
       "  </thead>\n",
       "  <tbody>\n",
       "    <tr>\n",
       "      <th>0</th>\n",
       "      <td>2017-01-01 23:30:00</td>\n",
       "      <td>226</td>\n",
       "      <td>SCEL</td>\n",
       "      <td>KMIA</td>\n",
       "      <td>AAL</td>\n",
       "      <td>2017-01-01 23:33:00</td>\n",
       "      <td>226</td>\n",
       "      <td>SCEL</td>\n",
       "      <td>KMIA</td>\n",
       "      <td>AAL</td>\n",
       "      <td>1</td>\n",
       "      <td>1</td>\n",
       "      <td>2017</td>\n",
       "      <td>Domingo</td>\n",
       "      <td>I</td>\n",
       "      <td>American Airlines</td>\n",
       "      <td>Santiago</td>\n",
       "      <td>Miami</td>\n",
       "    </tr>\n",
       "    <tr>\n",
       "      <th>1</th>\n",
       "      <td>2017-01-02 23:30:00</td>\n",
       "      <td>226</td>\n",
       "      <td>SCEL</td>\n",
       "      <td>KMIA</td>\n",
       "      <td>AAL</td>\n",
       "      <td>2017-01-02 23:39:00</td>\n",
       "      <td>226</td>\n",
       "      <td>SCEL</td>\n",
       "      <td>KMIA</td>\n",
       "      <td>AAL</td>\n",
       "      <td>2</td>\n",
       "      <td>1</td>\n",
       "      <td>2017</td>\n",
       "      <td>Lunes</td>\n",
       "      <td>I</td>\n",
       "      <td>American Airlines</td>\n",
       "      <td>Santiago</td>\n",
       "      <td>Miami</td>\n",
       "    </tr>\n",
       "    <tr>\n",
       "      <th>2</th>\n",
       "      <td>2017-01-03 23:30:00</td>\n",
       "      <td>226</td>\n",
       "      <td>SCEL</td>\n",
       "      <td>KMIA</td>\n",
       "      <td>AAL</td>\n",
       "      <td>2017-01-03 23:39:00</td>\n",
       "      <td>226</td>\n",
       "      <td>SCEL</td>\n",
       "      <td>KMIA</td>\n",
       "      <td>AAL</td>\n",
       "      <td>3</td>\n",
       "      <td>1</td>\n",
       "      <td>2017</td>\n",
       "      <td>Martes</td>\n",
       "      <td>I</td>\n",
       "      <td>American Airlines</td>\n",
       "      <td>Santiago</td>\n",
       "      <td>Miami</td>\n",
       "    </tr>\n",
       "    <tr>\n",
       "      <th>3</th>\n",
       "      <td>2017-01-04 23:30:00</td>\n",
       "      <td>226</td>\n",
       "      <td>SCEL</td>\n",
       "      <td>KMIA</td>\n",
       "      <td>AAL</td>\n",
       "      <td>2017-01-04 23:33:00</td>\n",
       "      <td>226</td>\n",
       "      <td>SCEL</td>\n",
       "      <td>KMIA</td>\n",
       "      <td>AAL</td>\n",
       "      <td>4</td>\n",
       "      <td>1</td>\n",
       "      <td>2017</td>\n",
       "      <td>Miercoles</td>\n",
       "      <td>I</td>\n",
       "      <td>American Airlines</td>\n",
       "      <td>Santiago</td>\n",
       "      <td>Miami</td>\n",
       "    </tr>\n",
       "    <tr>\n",
       "      <th>4</th>\n",
       "      <td>2017-01-05 23:30:00</td>\n",
       "      <td>226</td>\n",
       "      <td>SCEL</td>\n",
       "      <td>KMIA</td>\n",
       "      <td>AAL</td>\n",
       "      <td>2017-01-05 23:28:00</td>\n",
       "      <td>226</td>\n",
       "      <td>SCEL</td>\n",
       "      <td>KMIA</td>\n",
       "      <td>AAL</td>\n",
       "      <td>5</td>\n",
       "      <td>1</td>\n",
       "      <td>2017</td>\n",
       "      <td>Jueves</td>\n",
       "      <td>I</td>\n",
       "      <td>American Airlines</td>\n",
       "      <td>Santiago</td>\n",
       "      <td>Miami</td>\n",
       "    </tr>\n",
       "  </tbody>\n",
       "</table>\n",
       "</div>"
      ],
      "text/plain": [
       "              Fecha-I Vlo-I Ori-I Des-I Emp-I             Fecha-O Vlo-O Ori-O  \\\n",
       "0 2017-01-01 23:30:00   226  SCEL  KMIA   AAL 2017-01-01 23:33:00   226  SCEL   \n",
       "1 2017-01-02 23:30:00   226  SCEL  KMIA   AAL 2017-01-02 23:39:00   226  SCEL   \n",
       "2 2017-01-03 23:30:00   226  SCEL  KMIA   AAL 2017-01-03 23:39:00   226  SCEL   \n",
       "3 2017-01-04 23:30:00   226  SCEL  KMIA   AAL 2017-01-04 23:33:00   226  SCEL   \n",
       "4 2017-01-05 23:30:00   226  SCEL  KMIA   AAL 2017-01-05 23:28:00   226  SCEL   \n",
       "\n",
       "  Des-O Emp-O  DIA  MES   AÑO     DIANOM TIPOVUELO              OPERA  \\\n",
       "0  KMIA   AAL    1    1  2017    Domingo         I  American Airlines   \n",
       "1  KMIA   AAL    2    1  2017      Lunes         I  American Airlines   \n",
       "2  KMIA   AAL    3    1  2017     Martes         I  American Airlines   \n",
       "3  KMIA   AAL    4    1  2017  Miercoles         I  American Airlines   \n",
       "4  KMIA   AAL    5    1  2017     Jueves         I  American Airlines   \n",
       "\n",
       "   SIGLAORI SIGLADES  \n",
       "0  Santiago    Miami  \n",
       "1  Santiago    Miami  \n",
       "2  Santiago    Miami  \n",
       "3  Santiago    Miami  \n",
       "4  Santiago    Miami  "
      ]
     },
     "execution_count": 16,
     "metadata": {},
     "output_type": "execute_result"
    }
   ],
   "source": [
    "# remove data where Vlo-I is different from Vlo-O\n",
    "data = data[data[\"Vlo-I\"] == data[\"Vlo-O\"]]\n",
    "# remove data where Emp-O is 48O or 56R\n",
    "data = data[~data['Emp-O'].isin(['48O', '56R'])]\n",
    "print(f'Shape of dataframe: {data.shape}')\n",
    "data.head(5)"
   ]
  },
  {
   "cell_type": "markdown",
   "metadata": {},
   "source": [
    "Guardamos los datos limpios entonces"
   ]
  },
  {
   "cell_type": "code",
   "execution_count": 17,
   "metadata": {},
   "outputs": [],
   "source": [
    "data.to_csv(Path(os.getcwd()).joinpath('data', 'dataset_SCL_clean.csv'), index=False)"
   ]
  },
  {
   "cell_type": "markdown",
   "metadata": {},
   "source": [
    "# 1 - Analisis\n",
    "\n",
    "Aqui se responderá:\n",
    "1. ¿Cómo se distribuyen los datos? ¿Qué te llama la atención o cuál es tu conclusión sobre esto?"
   ]
  },
  {
   "cell_type": "code",
   "execution_count": 18,
   "metadata": {},
   "outputs": [],
   "source": [
    "data = pd.read_csv(Path(os.getcwd()).joinpath('data', 'dataset_SCL_clean.csv'))"
   ]
  },
  {
   "cell_type": "markdown",
   "metadata": {},
   "source": [
    "Nota: Debido a que desconosco como funciona la logistica de vuelos, en un contexto realista, le preguntaria a alguien del equipo que si sepa, o agendaria una reunion con algun experto de la empresa para resolver todas las consultas necesarias; pero como ahora mismo no tengo acceso a estas opciones, solo puedo hacer notar en este analisis las cosas que me llaman la atencion y que preguntaría, y continuar asumiendo un par de cosas."
   ]
  },
  {
   "cell_type": "markdown",
   "metadata": {},
   "source": [
    "Como vimos anteriormente (y con ejemplo acontinuacion), la informacion de programacion difiere de la informacion de operacion en algunos casos, tanto el numero de vuelo, como el destino de vuelo, y como la aerolinea del vuelo. Esto es algo que preguntaría, ya que estos cambios podrian tener sentido en algunos casos, pero tal vez no en otros; lo que podria resultar en limpiar más valores erroneos. Para este analisis, se eliminaron solo los casos donde el numero de vuelo es distinto, ya que son pocos casos, pero se mantendrán los destinos y aerolineas distintas (luego veremos que de todas maneras no deberian causar problemas, por otro motivo).\n",
    "\n",
    "Ejemplo de casos donde los datos de programacion son diferentes a los de logistica:"
   ]
  },
  {
   "cell_type": "code",
   "execution_count": 19,
   "metadata": {},
   "outputs": [
    {
     "data": {
      "text/html": [
       "<div>\n",
       "<style scoped>\n",
       "    .dataframe tbody tr th:only-of-type {\n",
       "        vertical-align: middle;\n",
       "    }\n",
       "\n",
       "    .dataframe tbody tr th {\n",
       "        vertical-align: top;\n",
       "    }\n",
       "\n",
       "    .dataframe thead th {\n",
       "        text-align: right;\n",
       "    }\n",
       "</style>\n",
       "<table border=\"1\" class=\"dataframe\">\n",
       "  <thead>\n",
       "    <tr style=\"text-align: right;\">\n",
       "      <th></th>\n",
       "      <th>Fecha-I</th>\n",
       "      <th>Vlo-I</th>\n",
       "      <th>Ori-I</th>\n",
       "      <th>Des-I</th>\n",
       "      <th>Emp-I</th>\n",
       "      <th>Fecha-O</th>\n",
       "      <th>Vlo-O</th>\n",
       "      <th>Ori-O</th>\n",
       "      <th>Des-O</th>\n",
       "      <th>Emp-O</th>\n",
       "      <th>DIA</th>\n",
       "      <th>MES</th>\n",
       "      <th>AÑO</th>\n",
       "      <th>DIANOM</th>\n",
       "      <th>TIPOVUELO</th>\n",
       "      <th>OPERA</th>\n",
       "      <th>SIGLAORI</th>\n",
       "      <th>SIGLADES</th>\n",
       "    </tr>\n",
       "  </thead>\n",
       "  <tbody>\n",
       "    <tr>\n",
       "      <th>1397</th>\n",
       "      <td>2017-01-17 19:20:00</td>\n",
       "      <td>25</td>\n",
       "      <td>SCEL</td>\n",
       "      <td>SCTE</td>\n",
       "      <td>SKU</td>\n",
       "      <td>2017-01-17 19:46:00</td>\n",
       "      <td>25</td>\n",
       "      <td>SCEL</td>\n",
       "      <td>SCQP</td>\n",
       "      <td>SKU</td>\n",
       "      <td>17</td>\n",
       "      <td>1</td>\n",
       "      <td>2017</td>\n",
       "      <td>Martes</td>\n",
       "      <td>N</td>\n",
       "      <td>Sky Airline</td>\n",
       "      <td>Santiago</td>\n",
       "      <td>Temuco</td>\n",
       "    </tr>\n",
       "    <tr>\n",
       "      <th>7254</th>\n",
       "      <td>2017-02-15 06:25:00</td>\n",
       "      <td>11</td>\n",
       "      <td>SCEL</td>\n",
       "      <td>SCTE</td>\n",
       "      <td>SKU</td>\n",
       "      <td>2017-02-15 06:25:00</td>\n",
       "      <td>11</td>\n",
       "      <td>SCEL</td>\n",
       "      <td>SCQP</td>\n",
       "      <td>SKU</td>\n",
       "      <td>15</td>\n",
       "      <td>2</td>\n",
       "      <td>2017</td>\n",
       "      <td>Miercoles</td>\n",
       "      <td>N</td>\n",
       "      <td>Sky Airline</td>\n",
       "      <td>Santiago</td>\n",
       "      <td>Temuco</td>\n",
       "    </tr>\n",
       "    <tr>\n",
       "      <th>345</th>\n",
       "      <td>2017-01-21 22:30:00</td>\n",
       "      <td>2291</td>\n",
       "      <td>SCEL</td>\n",
       "      <td>SABE</td>\n",
       "      <td>AUT</td>\n",
       "      <td>2017-01-21 22:28:00</td>\n",
       "      <td>2291</td>\n",
       "      <td>SCEL</td>\n",
       "      <td>SABE</td>\n",
       "      <td>ARG</td>\n",
       "      <td>21</td>\n",
       "      <td>1</td>\n",
       "      <td>2017</td>\n",
       "      <td>Sabado</td>\n",
       "      <td>I</td>\n",
       "      <td>Austral</td>\n",
       "      <td>Santiago</td>\n",
       "      <td>Buenos Aires</td>\n",
       "    </tr>\n",
       "    <tr>\n",
       "      <th>814</th>\n",
       "      <td>2017-01-01 07:14:00</td>\n",
       "      <td>624</td>\n",
       "      <td>SCEL</td>\n",
       "      <td>SPJC</td>\n",
       "      <td>AVA</td>\n",
       "      <td>2017-01-01 07:11:00</td>\n",
       "      <td>624</td>\n",
       "      <td>SCEL</td>\n",
       "      <td>SPJC</td>\n",
       "      <td>LRC</td>\n",
       "      <td>1</td>\n",
       "      <td>1</td>\n",
       "      <td>2017</td>\n",
       "      <td>Domingo</td>\n",
       "      <td>I</td>\n",
       "      <td>Avianca</td>\n",
       "      <td>Santiago</td>\n",
       "      <td>Lima</td>\n",
       "    </tr>\n",
       "  </tbody>\n",
       "</table>\n",
       "</div>"
      ],
      "text/plain": [
       "                  Fecha-I  Vlo-I Ori-I Des-I Emp-I              Fecha-O  \\\n",
       "1397  2017-01-17 19:20:00     25  SCEL  SCTE   SKU  2017-01-17 19:46:00   \n",
       "7254  2017-02-15 06:25:00     11  SCEL  SCTE   SKU  2017-02-15 06:25:00   \n",
       "345   2017-01-21 22:30:00   2291  SCEL  SABE   AUT  2017-01-21 22:28:00   \n",
       "814   2017-01-01 07:14:00    624  SCEL  SPJC   AVA  2017-01-01 07:11:00   \n",
       "\n",
       "      Vlo-O Ori-O Des-O Emp-O  DIA  MES   AÑO     DIANOM TIPOVUELO  \\\n",
       "1397     25  SCEL  SCQP   SKU   17    1  2017     Martes         N   \n",
       "7254     11  SCEL  SCQP   SKU   15    2  2017  Miercoles         N   \n",
       "345    2291  SCEL  SABE   ARG   21    1  2017     Sabado         I   \n",
       "814     624  SCEL  SPJC   LRC    1    1  2017    Domingo         I   \n",
       "\n",
       "            OPERA  SIGLAORI      SIGLADES  \n",
       "1397  Sky Airline  Santiago        Temuco  \n",
       "7254  Sky Airline  Santiago        Temuco  \n",
       "345       Austral  Santiago  Buenos Aires  \n",
       "814       Avianca  Santiago          Lima  "
      ]
     },
     "execution_count": 19,
     "metadata": {},
     "output_type": "execute_result"
    }
   ],
   "source": [
    "pd.concat([\n",
    "    data[data[\"Des-I\"] != data[\"Des-O\"]].iloc[:2],\n",
    "    data[data[\"Emp-I\"] != data[\"Emp-O\"]].iloc[:2],\n",
    "])"
   ]
  },
  {
   "cell_type": "markdown",
   "metadata": {},
   "source": [
    "Otro detalle es que el enunciado del desafio menciona que \"El problema consiste en predecir la probabilidad de atraso de los vuelos que aterrizan o despegan del aeropuerto de Santiago de Chile (SCL).\", pero como vimos anteriormente (y acontinuacion), todos las siglas de ciudad de origen son SCEL, es decir, todos los vuelos registrados son vuelos que parten en Santiago; lo que podria significar que falta una cantidad considerable de datos, correspondiente a los vuelos que llegan a Santiago.\n",
    "\n",
    "Ejemplo:"
   ]
  },
  {
   "cell_type": "code",
   "execution_count": 20,
   "metadata": {},
   "outputs": [
    {
     "name": "stdout",
     "output_type": "stream",
     "text": [
      "Columna: Ori-I\n",
      "Valores unicos en dataset: ['SCEL']\n",
      "Columna: Ori-O\n",
      "Valores unicos en dataset: ['SCEL']\n"
     ]
    }
   ],
   "source": [
    "for col in [\"Ori-I\", \"Ori-O\"]:\n",
    "    print(f'Columna: {col}\\nValores unicos en dataset: {sorted(data[col].unique())}')\n"
   ]
  },
  {
   "cell_type": "markdown",
   "metadata": {},
   "source": [
    "Como tambien vimos anteriormente, las columnas 'DIA', 'MES' y 'AÑO', tienen valores esperables; 'DIA' va de 1 a 31, 'MES' de 1 a 12 y 'AÑO' de 2017 a 2018.\n",
    "\n",
    "Ejemplo:"
   ]
  },
  {
   "cell_type": "code",
   "execution_count": 21,
   "metadata": {},
   "outputs": [
    {
     "name": "stdout",
     "output_type": "stream",
     "text": [
      "Columna: DIA\n",
      "Valores unicos en dataset: [1, 2, 3, 4, 5, 6, 7, 8, 9, 10, 11, 12, 13, 14, 15, 16, 17, 18, 19, 20, 21, 22, 23, 24, 25, 26, 27, 28, 29, 30, 31]\n",
      "Columna: MES\n",
      "Valores unicos en dataset: [1, 2, 3, 4, 5, 6, 7, 8, 9, 10, 11, 12]\n",
      "Columna: AÑO\n",
      "Valores unicos en dataset: [2017, 2018]\n"
     ]
    }
   ],
   "source": [
    "for col in [\"DIA\", \"MES\", \"AÑO\"]:\n",
    "    print(f'Columna: {col}\\nValores unicos en dataset: {sorted(data[col].unique())}')"
   ]
  },
  {
   "cell_type": "markdown",
   "metadata": {},
   "source": [
    "Tambien es importante destacar que 'OPERA', 'SIGLAORI' y 'SIGLADES', no entregan informacion nueva, solo repiten la de otras columnas, por lo que no serían de utilidad para un modelo predictivo.\n",
    "\n",
    "Asi mismo, las columnas 'Ori-I' y 'Ori-O', solo tienen un valor que se repite, por lo que tampoco aportan informacion al modelo.\n",
    "\n",
    "De la misma manera, ya que 'Vlo-I' es igual a 'Vlo-O' (despues de eliminar los pocos casos donde no lo eran), mantener ambas columnas es inncesario, ya que aportan la misma informacion."
   ]
  },
  {
   "cell_type": "markdown",
   "metadata": {},
   "source": [
    "Otro tema es que, los destinos de vuelos varían bastante, y hay pocos datos para algunos casos; lo que generaria problemas a la hora de entrenar y predecir esos casos\n",
    "\n",
    "Ejemplo:"
   ]
  },
  {
   "cell_type": "code",
   "execution_count": 22,
   "metadata": {},
   "outputs": [
    {
     "data": {
      "text/plain": [
       "SCFA    5787\n",
       "SPJC    5225\n",
       "SCCF    5145\n",
       "SCTE    4356\n",
       "SCIE    3991\n",
       "        ... \n",
       "SBFI       1\n",
       "SPSO       1\n",
       "SEQU       1\n",
       "SEQM       1\n",
       "SARI       1\n",
       "Name: Des-I, Length: 64, dtype: int64"
      ]
     },
     "execution_count": 22,
     "metadata": {},
     "output_type": "execute_result"
    }
   ],
   "source": [
    "data['Des-I'].value_counts()"
   ]
  },
  {
   "cell_type": "markdown",
   "metadata": {},
   "source": [
    "Lo anterior tambien ocurre con algunas aerolineas.\n",
    "\n",
    "Ejemplo:"
   ]
  },
  {
   "cell_type": "code",
   "execution_count": 23,
   "metadata": {},
   "outputs": [
    {
     "data": {
      "text/plain": [
       "LAN    37544\n",
       "SKU    14297\n",
       "TAM     3049\n",
       "ARG     1948\n",
       "CMP     1849\n",
       "LAW     1535\n",
       "AVA     1150\n",
       "JAT     1094\n",
       "GLO      806\n",
       "AAL      757\n",
       "ACA      563\n",
       "IBE      362\n",
       "AFR      358\n",
       "DAL      356\n",
       "AMX      350\n",
       "UAL      332\n",
       "ONE      279\n",
       "AZA      259\n",
       "KLM      251\n",
       "LAP      216\n",
       "BAW      205\n",
       "QFU      195\n",
       "JMR      100\n",
       "LRC       91\n",
       "AUT       72\n",
       "PUE       47\n",
       "LXP        9\n",
       "LPE        4\n",
       "DSM        2\n",
       "LNE        1\n",
       "Name: Emp-I, dtype: int64"
      ]
     },
     "execution_count": 23,
     "metadata": {},
     "output_type": "execute_result"
    }
   ],
   "source": [
    "data['Emp-I'].value_counts()"
   ]
  },
  {
   "cell_type": "markdown",
   "metadata": {},
   "source": [
    "Y lo ultimo es los datos de año."
   ]
  },
  {
   "cell_type": "code",
   "execution_count": 24,
   "metadata": {},
   "outputs": [
    {
     "data": {
      "text/plain": [
       "2017    68079\n",
       "2018        2\n",
       "Name: AÑO, dtype: int64"
      ]
     },
     "execution_count": 24,
     "metadata": {},
     "output_type": "execute_result"
    }
   ],
   "source": [
    "data['AÑO'].value_counts()"
   ]
  },
  {
   "cell_type": "markdown",
   "metadata": {},
   "source": [
    "Por ultimo, algo importante a destacar es que como se ve arriba, practicamente todos los datos corresponden al 2017; esto podria ser generar problemas por 2 motivos:\n",
    "\n",
    "- Como cada logistica de vuelo no es completamente independiente de los demás vuelos (no es como tirar 2 monedas al aire), entrenar con, por ejemplo, 8 vuelos en un dia, y testear con 2, podria hacer que la metrica de acierto no sea realista, ya que el modelo podria aprender el comportamiento de atrasos de ese dia en particular, por lo que la metrica de test resultaría mejor de lo que debiese ser.\n",
    "\n",
    "- En un año en particular, es posible que se den tendencias de atraso por situaciones fortuitas (politicas internacionales, logistica de la empresa, etc) que no se reperirán el siguiente año; lo que resultaria en un modelo que podria aprender esas tendencias, y errar considerablemente en años futuros.\n",
    "\n",
    "Idealmente, para prevenir los anteriores problemas, se podria hacer un entrenamiento con un par de años, y testear con un año futuro; pero no es posible con este dataset. Ademas, si se quisiera separar algunos meses para entrenamiento y otros para testeo (para solucionar el primer problema), se terminaria entrenando un modelo solo con una parte del espacio de valores posibles, por lo que probablemente tendria problemas prediciendo valores de los meses de test; por lo que tampoco es posible.\n",
    "\n",
    "Personalmente, creo que para crear un buen modelo, seria de mucha utilidad tener datos de otros años; eso garantizaria que el set de test sea realista, ya que el modelo creado probablemente deba ser utilizado en tiempo real, es decir en un nuevo año/mes/dia, no conociendo datos futuros. \n"
   ]
  },
  {
   "cell_type": "markdown",
   "metadata": {},
   "source": [
    "# 2 - Columnas adicionales\n",
    "\n",
    "Aqui se desarrollará:\n",
    "\n",
    "2. Genera las columnas adicionales y luego expórtelas en un archivo synthetic_features.csv:\n",
    "    - temporada_alta : 1 si Fecha-I está entre 15-Dic y 3-Mar, o 15-Jul y 31-Jul, o 11-Sep y 30-Sep, 0 si no.\n",
    "    - dif_min : diferencia en minutos entre Fecha-O y Fecha-I .\n",
    "    - atraso_15 : 1 si dif_min > 15, 0 si no.\n",
    "    - periodo_dia : mañana (entre 5:00 y 11:59), tarde (entre 12:00 y 18:59) y noche (entre 19:00 y 4:59), en base a Fecha-I"
   ]
  },
  {
   "cell_type": "markdown",
   "metadata": {},
   "source": [
    "Primero nos aseguramos que los timestamps estén en formato datetime"
   ]
  },
  {
   "cell_type": "code",
   "execution_count": 25,
   "metadata": {},
   "outputs": [],
   "source": [
    "data['Fecha-I'] = pd.to_datetime(data['Fecha-I'], format='%Y-%m-%d %H:%M:%S')\n",
    "data['Fecha-O'] = pd.to_datetime(data['Fecha-O'], format='%Y-%m-%d %H:%M:%S')"
   ]
  },
  {
   "cell_type": "markdown",
   "metadata": {},
   "source": [
    "### Temporada_alta\n",
    "\n",
    "Creamos una funcion que determine si las fechas estan o no en temporada alta"
   ]
  },
  {
   "cell_type": "code",
   "execution_count": 26,
   "metadata": {},
   "outputs": [],
   "source": [
    "def is_peak_season(dates: pd.Series)->pd.Series:\n",
    "    \"\"\"\n",
    "    Function to check if the dates are in a peak season,\n",
    "    returns a Series with 1 if dates are in a peak season, 0 otherwise\n",
    "\n",
    "    peak seasons:\n",
    "        between 15-Dec and 3-Mar\n",
    "        between 15-Jul and 31-Jul\n",
    "        between 11-Sep and 30-Sep\n",
    "    \n",
    "    \"\"\"\n",
    "    months = dates.dt.month\n",
    "    days = dates.dt.day\n",
    "    # first peak season: 15-Dec and 3-Mar can be divided in three parts\n",
    "    peak_season_1_1 = (months == 12) & (days >= 15)\n",
    "    peak_season_1_2 = (months == 1) | (months == 2)\n",
    "    peak_season_1_3 = (months == 3) & (days <= 3)\n",
    "    peak_season_1 = peak_season_1_1 | peak_season_1_2 | peak_season_1_3\n",
    "    # second peak season: 15-Jul and 31-Jul\n",
    "    peak_season_2 = (months == 7) & (days >= 15) & (days <= 31)\n",
    "    # third peak season: 11-Sep and 30-Sep\n",
    "    peak_season_3 = (months == 9) & (days >= 11) & (days <= 30)\n",
    "    peak_season = peak_season_1 | peak_season_2 | peak_season_3\n",
    "    return peak_season.astype(int)"
   ]
  },
  {
   "cell_type": "code",
   "execution_count": 27,
   "metadata": {},
   "outputs": [
    {
     "data": {
      "text/plain": [
       "35076    1\n",
       "31833    0\n",
       "20749    0\n",
       "8035     1\n",
       "31929    0\n",
       "64248    1\n",
       "1097     1\n",
       "Name: Fecha-I, dtype: int32"
      ]
     },
     "execution_count": 27,
     "metadata": {},
     "output_type": "execute_result"
    }
   ],
   "source": [
    "temporada_alta = is_peak_season(data['Fecha-I'])\n",
    "temporada_alta.sample(frac = 0.0001, random_state = 42)"
   ]
  },
  {
   "cell_type": "markdown",
   "metadata": {},
   "source": [
    "### Dif_min"
   ]
  },
  {
   "cell_type": "code",
   "execution_count": 28,
   "metadata": {},
   "outputs": [
    {
     "data": {
      "text/plain": [
       "35076     5.0\n",
       "31833    10.0\n",
       "20749     6.0\n",
       "8035     -1.0\n",
       "31929     4.0\n",
       "64248     9.0\n",
       "1097      9.0\n",
       "dtype: float64"
      ]
     },
     "execution_count": 28,
     "metadata": {},
     "output_type": "execute_result"
    }
   ],
   "source": [
    "# get diference in minutes\n",
    "dif_min = (data['Fecha-O'] - data['Fecha-I']).dt.total_seconds() / 60\n",
    "dif_min.sample(frac = 0.0001, random_state = 42)"
   ]
  },
  {
   "cell_type": "markdown",
   "metadata": {},
   "source": [
    "### Atraso_15"
   ]
  },
  {
   "cell_type": "code",
   "execution_count": 29,
   "metadata": {},
   "outputs": [
    {
     "data": {
      "text/plain": [
       "29704    0\n",
       "35808    0\n",
       "7260     0\n",
       "65155    0\n",
       "16153    1\n",
       "64763    1\n",
       "19589    0\n",
       "dtype: int32"
      ]
     },
     "execution_count": 29,
     "metadata": {},
     "output_type": "execute_result"
    }
   ],
   "source": [
    "atraso_15 = (dif_min > 15).astype(int)\n",
    "atraso_15.sample(frac = 0.0001, random_state = 1)"
   ]
  },
  {
   "cell_type": "markdown",
   "metadata": {},
   "source": [
    "### Periodo_dia"
   ]
  },
  {
   "cell_type": "code",
   "execution_count": 30,
   "metadata": {},
   "outputs": [],
   "source": [
    "def day_period(dates: pd.Series)->pd.Series:\n",
    "    \"\"\"\n",
    "    Function to get the day period (mañana, tarde, noche) as a string\n",
    "    \"\"\"\n",
    "    hours = dates.dt.hour\n",
    "    morning = (hours >= 5) & (hours < 12)\n",
    "    afternoon = (hours >= 12) & (hours < 19)\n",
    "    day_period = pd.Series(np.where(morning, 'mañana', np.where(afternoon, 'tarde', 'noche')), index=dates.index)\n",
    "    return day_period"
   ]
  },
  {
   "cell_type": "code",
   "execution_count": 31,
   "metadata": {},
   "outputs": [
    {
     "data": {
      "text/plain": [
       "35076     tarde\n",
       "31833     noche\n",
       "20749     noche\n",
       "8035     mañana\n",
       "31929    mañana\n",
       "64248    mañana\n",
       "1097      tarde\n",
       "dtype: object"
      ]
     },
     "execution_count": 31,
     "metadata": {},
     "output_type": "execute_result"
    }
   ],
   "source": [
    "periodo_dia = day_period(data['Fecha-I'])\n",
    "periodo_dia.sample(frac = 0.0001, random_state = 42)"
   ]
  },
  {
   "cell_type": "markdown",
   "metadata": {},
   "source": [
    "### Combinacion de las columnas\n",
    "\n",
    "Se combinan las columnas, se guardan, y se muestra un ejemplo para comprobar que funciona correctamente\n"
   ]
  },
  {
   "cell_type": "code",
   "execution_count": 32,
   "metadata": {},
   "outputs": [
    {
     "data": {
      "text/html": [
       "<div>\n",
       "<style scoped>\n",
       "    .dataframe tbody tr th:only-of-type {\n",
       "        vertical-align: middle;\n",
       "    }\n",
       "\n",
       "    .dataframe tbody tr th {\n",
       "        vertical-align: top;\n",
       "    }\n",
       "\n",
       "    .dataframe thead th {\n",
       "        text-align: right;\n",
       "    }\n",
       "</style>\n",
       "<table border=\"1\" class=\"dataframe\">\n",
       "  <thead>\n",
       "    <tr style=\"text-align: right;\">\n",
       "      <th></th>\n",
       "      <th>Fecha-I</th>\n",
       "      <th>Fecha-O</th>\n",
       "      <th>temporada_alta</th>\n",
       "      <th>dif_min</th>\n",
       "      <th>atraso_15</th>\n",
       "      <th>periodo_dia</th>\n",
       "    </tr>\n",
       "  </thead>\n",
       "  <tbody>\n",
       "    <tr>\n",
       "      <th>35076</th>\n",
       "      <td>2017-07-15 17:58:00</td>\n",
       "      <td>2017-07-15 18:03:00</td>\n",
       "      <td>1</td>\n",
       "      <td>5.0</td>\n",
       "      <td>0</td>\n",
       "      <td>tarde</td>\n",
       "    </tr>\n",
       "    <tr>\n",
       "      <th>31833</th>\n",
       "      <td>2017-06-02 00:05:00</td>\n",
       "      <td>2017-06-02 00:15:00</td>\n",
       "      <td>0</td>\n",
       "      <td>10.0</td>\n",
       "      <td>0</td>\n",
       "      <td>noche</td>\n",
       "    </tr>\n",
       "    <tr>\n",
       "      <th>20749</th>\n",
       "      <td>2017-04-11 20:30:00</td>\n",
       "      <td>2017-04-11 20:36:00</td>\n",
       "      <td>0</td>\n",
       "      <td>6.0</td>\n",
       "      <td>0</td>\n",
       "      <td>noche</td>\n",
       "    </tr>\n",
       "    <tr>\n",
       "      <th>8035</th>\n",
       "      <td>2017-02-27 05:20:00</td>\n",
       "      <td>2017-02-27 05:19:00</td>\n",
       "      <td>1</td>\n",
       "      <td>-1.0</td>\n",
       "      <td>0</td>\n",
       "      <td>mañana</td>\n",
       "    </tr>\n",
       "    <tr>\n",
       "      <th>31929</th>\n",
       "      <td>2017-06-14 05:45:00</td>\n",
       "      <td>2017-06-14 05:49:00</td>\n",
       "      <td>0</td>\n",
       "      <td>4.0</td>\n",
       "      <td>0</td>\n",
       "      <td>mañana</td>\n",
       "    </tr>\n",
       "    <tr>\n",
       "      <th>64248</th>\n",
       "      <td>2017-12-25 06:05:00</td>\n",
       "      <td>2017-12-25 06:14:00</td>\n",
       "      <td>1</td>\n",
       "      <td>9.0</td>\n",
       "      <td>0</td>\n",
       "      <td>mañana</td>\n",
       "    </tr>\n",
       "    <tr>\n",
       "      <th>1097</th>\n",
       "      <td>2017-01-15 13:25:00</td>\n",
       "      <td>2017-01-15 13:34:00</td>\n",
       "      <td>1</td>\n",
       "      <td>9.0</td>\n",
       "      <td>0</td>\n",
       "      <td>tarde</td>\n",
       "    </tr>\n",
       "  </tbody>\n",
       "</table>\n",
       "</div>"
      ],
      "text/plain": [
       "                  Fecha-I             Fecha-O  temporada_alta  dif_min  \\\n",
       "35076 2017-07-15 17:58:00 2017-07-15 18:03:00               1      5.0   \n",
       "31833 2017-06-02 00:05:00 2017-06-02 00:15:00               0     10.0   \n",
       "20749 2017-04-11 20:30:00 2017-04-11 20:36:00               0      6.0   \n",
       "8035  2017-02-27 05:20:00 2017-02-27 05:19:00               1     -1.0   \n",
       "31929 2017-06-14 05:45:00 2017-06-14 05:49:00               0      4.0   \n",
       "64248 2017-12-25 06:05:00 2017-12-25 06:14:00               1      9.0   \n",
       "1097  2017-01-15 13:25:00 2017-01-15 13:34:00               1      9.0   \n",
       "\n",
       "       atraso_15 periodo_dia  \n",
       "35076          0       tarde  \n",
       "31833          0       noche  \n",
       "20749          0       noche  \n",
       "8035           0      mañana  \n",
       "31929          0      mañana  \n",
       "64248          0      mañana  \n",
       "1097           0       tarde  "
      ]
     },
     "execution_count": 32,
     "metadata": {},
     "output_type": "execute_result"
    }
   ],
   "source": [
    "syntetic_feat = pd.DataFrame({'temporada_alta': temporada_alta, 'dif_min': dif_min, 'atraso_15': atraso_15, 'periodo_dia': periodo_dia})\n",
    "syntetic_feat.to_csv(Path(os.getcwd()).joinpath('data', 'syntetic_features.csv'), index=False)\n",
    "\n",
    "#show combination of Fecha-I, Fecha-O and syntetic_feat\n",
    "pd.concat([data[['Fecha-I', 'Fecha-O']], syntetic_feat], axis=1).sample(frac = 0.0001, random_state = 42)"
   ]
  },
  {
   "cell_type": "markdown",
   "metadata": {},
   "source": [
    "# 3 - Graficos\n",
    "\n",
    "Aqui se responderá:\n",
    "\n",
    "3. ¿Cómo se compone la tasa de atraso por destino, aerolínea, mes del año, día de la semana, temporada, tipo de vuelo?\n",
    "¿Qué variables esperarías que más influyeran en predecir atrasos?"
   ]
  },
  {
   "cell_type": "code",
   "execution_count": 33,
   "metadata": {},
   "outputs": [],
   "source": [
    "data = pd.concat([data, syntetic_feat], axis=1)"
   ]
  },
  {
   "cell_type": "markdown",
   "metadata": {},
   "source": [
    "Como lo que se pide es graficar la tasa de atraso por distintas variables, se realizarán barplots"
   ]
  },
  {
   "cell_type": "code",
   "execution_count": 34,
   "metadata": {},
   "outputs": [
    {
     "data": {
      "text/plain": [
       "(0.0, 1.0)"
      ]
     },
     "execution_count": 34,
     "metadata": {},
     "output_type": "execute_result"
    },
    {
     "data": {
      "image/png": "[encoded data removed]",
      "text/plain": [
       "<Figure size 720x1440 with 1 Axes>"
      ]
     },
     "metadata": {
      "needs_background": "light"
     },
     "output_type": "display_data"
    }
   ],
   "source": [
    "fig, ax = plt.subplots(figsize=(10, 20))\n",
    "ax = sns.barplot(x='atraso_15', y='Des-I', data=data, orient='h', ax=ax)\n",
    "ax.set_title('Tasa de atrasos de 15 minutos por destino', fontsize=20)\n",
    "ax.set_xlabel('Tasa de atrasos', fontsize=15)\n",
    "ax.set_ylabel('Destino', fontsize=15)\n",
    "ax.set_xlim(0, 1)"
   ]
  },
  {
   "cell_type": "code",
   "execution_count": 35,
   "metadata": {},
   "outputs": [
    {
     "data": {
      "text/plain": [
       "(0.0, 1.0)"
      ]
     },
     "execution_count": 35,
     "metadata": {},
     "output_type": "execute_result"
    },
    {
     "data": {
      "image/png": "[encoded data removed]",
      "text/plain": [
       "<Figure size 720x720 with 1 Axes>"
      ]
     },
     "metadata": {
      "needs_background": "light"
     },
     "output_type": "display_data"
    }
   ],
   "source": [
    "fig, ax = plt.subplots(figsize=(10, 10))\n",
    "ax = sns.barplot(x='atraso_15', y='Emp-I', data=data, orient='h', ax=ax)\n",
    "ax.set_title('Tasa de atrasos de 15 minutos por aerolinea', fontsize=20)\n",
    "ax.set_xlabel('Tasa de atrasos', fontsize=15)\n",
    "ax.set_ylabel('Aerolinea', fontsize=15)\n",
    "ax.set_xlim(0, 1)"
   ]
  },
  {
   "cell_type": "code",
   "execution_count": 36,
   "metadata": {},
   "outputs": [
    {
     "data": {
      "text/plain": [
       "(0.0, 1.0)"
      ]
     },
     "execution_count": 36,
     "metadata": {},
     "output_type": "execute_result"
    },
    {
     "data": {
      "image/png": "[encoded data removed]",
      "text/plain": [
       "<Figure size 720x360 with 1 Axes>"
      ]
     },
     "metadata": {
      "needs_background": "light"
     },
     "output_type": "display_data"
    }
   ],
   "source": [
    "fig, ax = plt.subplots(figsize=(10, 5))\n",
    "ax = sns.barplot(x='atraso_15', y='MES', data=data, orient='h', ax=ax)\n",
    "ax.set_title('Tasa de atrasos de 15 minutos por mes', fontsize=20)\n",
    "ax.set_xlabel('Tasa de atrasos', fontsize=15)\n",
    "ax.set_ylabel('Mes', fontsize=15)\n",
    "ax.set_xlim(0, 1)"
   ]
  },
  {
   "cell_type": "code",
   "execution_count": 37,
   "metadata": {},
   "outputs": [
    {
     "data": {
      "text/plain": [
       "(0.0, 1.0)"
      ]
     },
     "execution_count": 37,
     "metadata": {},
     "output_type": "execute_result"
    },
    {
     "data": {
      "image/png": "[encoded data removed]",
      "text/plain": [
       "<Figure size 720x288 with 1 Axes>"
      ]
     },
     "metadata": {
      "needs_background": "light"
     },
     "output_type": "display_data"
    }
   ],
   "source": [
    "fig, ax = plt.subplots(figsize=(10, 4))\n",
    "ax = sns.barplot(x='atraso_15', y='DIANOM', data=data, orient='h', ax=ax)\n",
    "ax.set_title('Tasa de atrasos de 15 minutos por dia', fontsize=20)\n",
    "ax.set_xlabel('Tasa de atrasos', fontsize=15)\n",
    "ax.set_ylabel('Dia', fontsize=15)\n",
    "ax.set_xlim(0, 1)"
   ]
  },
  {
   "cell_type": "code",
   "execution_count": 38,
   "metadata": {},
   "outputs": [
    {
     "data": {
      "text/plain": [
       "(0.0, 1.0)"
      ]
     },
     "execution_count": 38,
     "metadata": {},
     "output_type": "execute_result"
    },
    {
     "data": {
      "image/png": "[encoded data removed]",
      "text/plain": [
       "<Figure size 720x144 with 1 Axes>"
      ]
     },
     "metadata": {
      "needs_background": "light"
     },
     "output_type": "display_data"
    }
   ],
   "source": [
    "fig, ax = plt.subplots(figsize=(10, 2))\n",
    "ax = sns.barplot(x='atraso_15', y='temporada_alta', data=data, orient='h', ax=ax)\n",
    "ax.set_title('Tasa de atrasos de 15 minutos por temporada', fontsize=15)\n",
    "ax.set_xlabel('Tasa de atrasos', fontsize=12)\n",
    "ax.set_ylabel('Temporada', fontsize=12)\n",
    "ax.set_yticklabels(['Baja', 'Alta'])\n",
    "ax.set_xlim(0, 1)"
   ]
  },
  {
   "cell_type": "code",
   "execution_count": 39,
   "metadata": {},
   "outputs": [
    {
     "data": {
      "text/plain": [
       "(0.0, 1.0)"
      ]
     },
     "execution_count": 39,
     "metadata": {},
     "output_type": "execute_result"
    },
    {
     "data": {
      "image/png": "[encoded data removed]",
      "text/plain": [
       "<Figure size 720x144 with 1 Axes>"
      ]
     },
     "metadata": {
      "needs_background": "light"
     },
     "output_type": "display_data"
    }
   ],
   "source": [
    "fig, ax = plt.subplots(figsize=(10, 2))\n",
    "ax = sns.barplot(x='atraso_15', y='TIPOVUELO', data=data, orient='h', ax=ax)\n",
    "ax.set_title('Tasa de atrasos de 15 minutos por tipo de vuelo', fontsize=15)\n",
    "ax.set_xlabel('Tasa de atrasos', fontsize=12)\n",
    "ax.set_ylabel('Tipo de vuelo', fontsize=12)\n",
    "ax.set_yticklabels(['Internacional', 'Nacional'])\n",
    "ax.set_xlim(0, 1)"
   ]
  },
  {
   "cell_type": "markdown",
   "metadata": {},
   "source": [
    "Se calcula la desviacion estandar de cada uno de los features graficados"
   ]
  },
  {
   "cell_type": "code",
   "execution_count": 40,
   "metadata": {},
   "outputs": [
    {
     "name": "stdout",
     "output_type": "stream",
     "text": [
      "Des-I: 0.23433885101889734\n",
      "Emp-I: 0.26851907343318226\n",
      "MES: 0.0530957341439194\n",
      "DIANOM: 0.023767239307931325\n",
      "temporada_alta: 0.01153880107291687\n",
      "TIPOVUELO: 0.05252763858447203\n"
     ]
    }
   ],
   "source": [
    "# calculate variance for each feature\n",
    "for col in ['Des-I', 'Emp-I', 'MES', 'DIANOM', 'temporada_alta', 'TIPOVUELO']:\n",
    "    data_grupo = data.groupby(col)\n",
    "    atrasos_group = data_grupo['atraso_15'].mean()\n",
    "    print(f'{col}: {atrasos_group.std()}')\n"
   ]
  },
  {
   "cell_type": "markdown",
   "metadata": {},
   "source": [
    "Los features que esperaria que tengan mas influencia son los que tienen mayor variabilidad (o desviacion estandar) en la tasa de atrasos para cada categoria; en este caso:\n",
    "- Destino\n",
    "- Aerolinea\n",
    "\n",
    "Y el que menos influencia debe tener es si es temporada alta o baja.\n",
    "\n",
    "De toda maneras es importante hacer notar que tanto en Destino como Aerolinea hay casos donde se tienen muy pocos datos, por lo que la metricas metricas de promedio y desviacion estandar no son tan exactas."
   ]
  },
  {
   "cell_type": "markdown",
   "metadata": {},
   "source": [
    "# 4 - Modelos\n",
    "\n",
    "Aqui se desarrollará:\n",
    "\n",
    "4. Entrena uno o varios modelos (usando el/los algoritmo(s) que prefieras) para estimar la probabilidad de atraso de un vuelo.\n",
    "Siéntete libre de generar variables adicionales y/o complementar con variables externas."
   ]
  },
  {
   "cell_type": "markdown",
   "metadata": {},
   "source": [
    "Primero que todo, se debe definir bien el problema, y como influyen las variables que se tienen.\n",
    "\n",
    "Nota: Como se mensionó anteriormente, no tengo acceso a resolver preguntas con un experto en logistica de aerolineas, asi que solo puedo suponer cosas para este analisis\n",
    "\n",
    "Se quiere crear un modelo capaz de predecir si un vuelo se atrasará, y por supuesto, esto solo es util si el vuelo aun no ocurre; por lo que entiendo, la informacion de operacion se genera cuando el vuelo realmente se pone en marcha, o muy cerca de ese momento; por ejemplo, el tiempo de partida real 'Fecha-O' se genera ahi; lo que significa que solo seria de utilidad usar la infomacion de programacion, ya que es la unica informacion que se poseerá cuando el modelo puede predecir algo futuro de utilidad. De todas maneras, la informacion de programacion y de operacion es igual para la gran mayoria de los casos, por lo que si se eliminasen los distintos, no bajaria mucho la cantidad de datos, y haria innecesario ocupar la informacion de programacion y operacion en conjunto; resultado en la utilizacion de los mismos features. Esto elimina los features:\n",
    "- *Fecha-O*\n",
    "- *Vlo-O*\n",
    "- *Ori-O*\n",
    "- *Des-O*\n",
    "- *Emp-O*"
   ]
  },
  {
   "cell_type": "markdown",
   "metadata": {},
   "source": [
    "Anteriormente vimos que la informacion de 'OPERA', 'SIGLAORI' y 'SIGLADES' es la misma que en otras columnas, solo repetida en otra forma, por lo que tampoco son necesarios. Se eliminan:\n",
    "- *OPERA*\n",
    "- *SIGLAORI*\n",
    "- *SIGLADES*"
   ]
  },
  {
   "cell_type": "markdown",
   "metadata": {},
   "source": [
    "La columna 'Ori-I' tiene solo una categoria que se repite, por lo que no agrega informacion (al menos actualmente, con los datos de este dataset); de la misma manera, 'AÑO' tiene casi unicamente el año 2017, por lo que tampoco aporta informacion. Se eliminan:\n",
    "- *Ori-I*\n",
    "- *AÑO*"
   ]
  },
  {
   "cell_type": "markdown",
   "metadata": {},
   "source": [
    "La informacion de 'Fecha-I' solo es util para el calculo del atraso, al igual que 'Fecha-O'; por lo que ya no son necesarias. Ademas, como la fecha es algo unico, podria crear problemas en las capacidades de generalizacion del modelo, ya que el test siempre tendrá valores de fecha que nunca fueron vistos en el entrenamiento. Se elimina:\n",
    "- *Fecha-I*"
   ]
  },
  {
   "cell_type": "markdown",
   "metadata": {},
   "source": [
    "Segun lo que entiendo, el numero de vuelo 'Vlo-I' es solo un numero que se asigna como indice en la programacion de vuelo, para mantener un orden de inventario; por lo que no deberia aportar informacion para la prediccion de atrasos. Se elimina:\n",
    "- *Vlo-I*"
   ]
  },
  {
   "cell_type": "markdown",
   "metadata": {},
   "source": [
    "La columna 'dif_min' es solo otra forma del target 'atraso_15', por lo que por supuesto no puede ser utilizado para predecir. Se elimina:\n",
    "- 'dif_min' "
   ]
  },
  {
   "cell_type": "markdown",
   "metadata": {},
   "source": [
    "Para las demás columnas ('Des-I', 'Emp-I', 'DIA', 'MES', 'DIANOM', 'TIPOVUELO', 'temporada_alta', 'periodo_dia') se revisará la desviacion estandar, como indicador de cuanta informacion pueden aportar."
   ]
  },
  {
   "cell_type": "code",
   "execution_count": 50,
   "metadata": {},
   "outputs": [
    {
     "name": "stdout",
     "output_type": "stream",
     "text": [
      "temporada_alta    0.011539\n",
      "DIA               0.022539\n",
      "periodo_dia       0.022662\n",
      "DIANOM            0.023767\n",
      "TIPOVUELO         0.052528\n",
      "MES               0.053096\n",
      "Des-I             0.234339\n",
      "Emp-I             0.268519\n",
      "dtype: float64\n"
     ]
    }
   ],
   "source": [
    "# calculate variance for each feature\n",
    "std_series = pd.Series(dtype=float)\n",
    "for col in ['Des-I', 'Emp-I', 'DIA', 'MES', 'DIANOM', 'TIPOVUELO', 'temporada_alta', 'periodo_dia']:\n",
    "    data_grupo = data.groupby(col)\n",
    "    atrasos_group = data_grupo['atraso_15'].mean()\n",
    "    std_series[col] = atrasos_group.std()\n",
    "print(std_series.sort_values())"
   ]
  },
  {
   "cell_type": "markdown",
   "metadata": {},
   "source": [
    "Podemos ver que las columnas que mas aportan informacion son: 'Emp-I' y 'Des-I' con aprox 0.2 de std, seguidas por 'MES' Y 'TIPOVUELO' con 0.05 aprox, y luego 'DIANOM', 'periodo_dia', 'DIA' y 'temporada_alta' al final con 0.02 o menos.\n",
    "\n",
    "Debido a que 'DIANOM', 'periodo_dia', 'DIA' y 'temporada_alta' tienen muy baja desviacion estandar, y en general no tienen pocas categorias (lo cual incrementará la dimensionalidad del problema) no se trabajará con ellas. Se eliminan:\n",
    "- *DIANOM*\n",
    "- *periodo_dia*\n",
    "- *DIA*\n",
    "- *temporada_alta*"
   ]
  },
  {
   "cell_type": "markdown",
   "metadata": {},
   "source": [
    "Esto nos deja con 'Des-I', 'Emp-I', 'MES' y 'TIPOVUELO'. Estos pueden separarse en 2 tipos de datos categoricos:\n",
    "1. Ordinales: 'MES'\n",
    "2. Nominales: 'Des-I', 'Emp-I' y 'TIPOVUELO'\n",
    "\n",
    "'MES' ya está en valores numericos, por lo que no es necesario transformarlo. Los nominales si tienen que ser transformados para ser utilizados.\n",
    "\n",
    "Lo tipico sería utilizar one hot encoding, pero se verá primero la cantidad de categorias."
   ]
  },
  {
   "cell_type": "code",
   "execution_count": 53,
   "metadata": {},
   "outputs": [
    {
     "name": "stdout",
     "output_type": "stream",
     "text": [
      "Des-I: 64\n",
      "Emp-I: 30\n",
      "TIPOVUELO: 2\n"
     ]
    }
   ],
   "source": [
    "# amount of unique values for each feature\n",
    "for col in ['Des-I', 'Emp-I', 'TIPOVUELO']:\n",
    "    print(f'{col}: {data[col].nunique()}')"
   ]
  },
  {
   "cell_type": "markdown",
   "metadata": {},
   "source": [
    "Vemos que hay una alta cantidad de categorias, lo que significa que si utilizamos one hot encoding, terminariamos con casi 96 features, lo que es bastante.\n",
    "\n",
    "Veamos el conteo de datos por cada categoria:"
   ]
  },
  {
   "cell_type": "code",
   "execution_count": 67,
   "metadata": {},
   "outputs": [
    {
     "data": {
      "text/plain": [
       "Text(0, 0.5, 'Cantidad de vuelos')"
      ]
     },
     "execution_count": 67,
     "metadata": {},
     "output_type": "execute_result"
    },
    {
     "data": {
      "image/png": "[encoded data removed]",
      "text/plain": [
       "<Figure size 2880x720 with 1 Axes>"
      ]
     },
     "metadata": {
      "needs_background": "light"
     },
     "output_type": "display_data"
    }
   ],
   "source": [
    "# ordered countplot for Des-I\n",
    "fig, ax = plt.subplots(figsize=(40, 10))\n",
    "ax = sns.countplot(x='Des-I', data=data, ax=ax, order=data['Des-I'].value_counts().index)\n",
    "ax.set_title('Cantidad de vuelos por destino', fontsize=20)\n",
    "ax.set_xlabel('Destino', fontsize=15)\n",
    "ax.set_ylabel('Cantidad de vuelos', fontsize=15)"
   ]
  },
  {
   "cell_type": "code",
   "execution_count": 74,
   "metadata": {},
   "outputs": [
    {
     "data": {
      "text/plain": [
       "Text(0, 0.5, 'Cantidad de vuelos')"
      ]
     },
     "execution_count": 74,
     "metadata": {},
     "output_type": "execute_result"
    },
    {
     "data": {
      "image/png": "[encoded data removed]",
      "text/plain": [
       "<Figure size 1440x360 with 1 Axes>"
      ]
     },
     "metadata": {
      "needs_background": "light"
     },
     "output_type": "display_data"
    }
   ],
   "source": [
    "# ordered countplot for Emp-I\n",
    "fig, ax = plt.subplots(figsize=(20, 5))\n",
    "ax = sns.countplot(x='Emp-I', data=data, ax=ax, order=data['Emp-I'].value_counts().index)\n",
    "ax.set_title('Cantidad de vuelos por aerolinea', fontsize=20)\n",
    "ax.set_xlabel('Aerolinea', fontsize=15)\n",
    "ax.set_ylabel('Cantidad de vuelos', fontsize=15)\n"
   ]
  },
  {
   "cell_type": "code",
   "execution_count": 76,
   "metadata": {},
   "outputs": [
    {
     "data": {
      "text/plain": [
       "Text(0, 0.5, 'Cantidad de vuelos')"
      ]
     },
     "execution_count": 76,
     "metadata": {},
     "output_type": "execute_result"
    },
    {
     "data": {
      "image/png": "[encoded data removed]",
      "text/plain": [
       "<Figure size 360x360 with 1 Axes>"
      ]
     },
     "metadata": {
      "needs_background": "light"
     },
     "output_type": "display_data"
    }
   ],
   "source": [
    "# ordered countplot for TIPOVUELO\n",
    "fig, ax = plt.subplots(figsize=(5, 5))\n",
    "ax = sns.countplot(x='TIPOVUELO', data=data, ax=ax, order=data['TIPOVUELO'].value_counts().index)\n",
    "ax.set_title('Cantidad de vuelos por tipo de vuelo', fontsize=20)\n",
    "ax.set_xlabel('Tipo de vuelo', fontsize=15)\n",
    "ax.set_ylabel('Cantidad de vuelos', fontsize=15)\n"
   ]
  },
  {
   "cell_type": "markdown",
   "metadata": {},
   "source": [
    "Vemos que para el destino y para la aerolinea hay muchos casos donde una categoria ocurre muy pocas veces.\n",
    "\n",
    "Existen distintas formas de transformar estos features para ser utilizados en un modelo, si solo utilizamos directamente One Hot Encoding, terminaremos con muchos datos; otra opcion seria utilizar otros tipos de encoding, como Binary Encoding, Frequency Encoding, u otros; tambien está la posibilidad de eliminar o agrupar las categorias que ocurren con poca frecuencia, para terminar con menos features.\n",
    "\n",
    "Para ser honesto no tengo tanta experiencia con Sparse data para saber qué metodologias suelen obtener mejores resultados, por lo que en esta ocacion, se utilizará One Hot Encoding directo seguido de TruncatedSVD para reducir la dimensionalidad."
   ]
  },
  {
   "cell_type": "code",
   "execution_count": 84,
   "metadata": {},
   "outputs": [
    {
     "data": {
      "text/plain": [
       "TruncatedSVD(n_components=90)"
      ]
     },
     "execution_count": 84,
     "metadata": {},
     "output_type": "execute_result"
    }
   ],
   "source": [
    "# use sklearn OneHotEncoder to encode categorical features\n",
    "enc = OneHotEncoder(handle_unknown='ignore')\n",
    "enc.fit(data[['Des-I', 'Emp-I', 'TIPOVUELO']])\n",
    "encoded_feat = enc.transform(data[['Des-I', 'Emp-I', 'TIPOVUELO']]).toarray()\n",
    "\n",
    "# svd for encoded data\n",
    "svd = TruncatedSVD(n_components=90)\n",
    "svd.fit(encoded_feat)\n"
   ]
  },
  {
   "cell_type": "markdown",
   "metadata": {},
   "source": [
    "Vemos cuantas componentes son necesarias para mantener una buena cantidad de varianza"
   ]
  },
  {
   "cell_type": "code",
   "execution_count": 97,
   "metadata": {},
   "outputs": [
    {
     "name": "stdout",
     "output_type": "stream",
     "text": [
      "Number of principal components that explain 90% of the variance: 26\n"
     ]
    },
    {
     "data": {
      "image/png": "[encoded data removed]",
      "text/plain": [
       "<Figure size 720x360 with 1 Axes>"
      ]
     },
     "metadata": {
      "needs_background": "light"
     },
     "output_type": "display_data"
    }
   ],
   "source": [
    "# plot cumulative explained variance\n",
    "cumsum_var = np.cumsum(svd.explained_variance_ratio_)\n",
    "fig, ax = plt.subplots(figsize=(10, 5))\n",
    "ax = sns.lineplot(x=np.arange(90), y=cumsum_var, ax=ax)\n",
    "ax.set_title('Cumulative explained variance ratio', fontsize=20)\n",
    "ax.set_xlabel('Principal components', fontsize=15)\n",
    "ax.set_ylabel('Cumulative explained variance ratio', fontsize=15)\n",
    "\n",
    "# find the number of principal components that explain 95% of the variance\n",
    "var_90 = np.where(cumsum_var >= 0.90)[0][0]\n",
    "print(f'Number of principal components that explain 90% of the variance: {var_90}')\n"
   ]
  },
  {
   "cell_type": "markdown",
   "metadata": {},
   "source": [
    "Con 26 componentes conservamos el 90% de la varianza de los datos con one hot encode; por lo que se utilizarán 26 componentes\n",
    "\n",
    "Creamos una funcion para realizar el preprocesamiento"
   ]
  },
  {
   "cell_type": "code",
   "execution_count": 105,
   "metadata": {},
   "outputs": [],
   "source": [
    "def preprocess_data(\n",
    "    data: pd.DataFrame,\n",
    "    onehot: OneHotEncoder,\n",
    "    svd: TruncatedSVD,\n",
    "    scaler: StandardScaler,\n",
    "    cols_to_onehot: List[str]=None,\n",
    "    cols_extra: List[str]=None,\n",
    "    mode: str='train'\n",
    "    ) -> pd.DataFrame:\n",
    "    \"\"\"\n",
    "    Preprocess data for the model, by:\n",
    "    - One hot encoding the 'cols_to_onehot' columns\n",
    "    - Applying SVD to the one hot encoded data\n",
    "    - Concatenating the encoded data with the 'cols_extra' columns\n",
    "    - Scaling the data using the scaler\n",
    "\n",
    "    Parameters\n",
    "    ----------\n",
    "    data : pd.DataFrame\n",
    "        Data to preprocess\n",
    "    onehot : OneHotEncoder\n",
    "        One hot encoder to use\n",
    "    svd : TruncatedSVD \n",
    "        TruncatedSVD to use\n",
    "    scaler : StandardScaler\n",
    "        Scaler to use\n",
    "    cols_to_onehot : List[str]\n",
    "        List of columns to one hot encode\n",
    "    cols_extra : List[str] \n",
    "        List of columns to concatenate with the encoded data\n",
    "    mode : str\n",
    "        Function mode 'train' or 'test', whether to fit the encoder, svd and scaler or not \n",
    "    \"\"\"\n",
    "    data_to_onehot = data[cols_to_onehot]\n",
    "    data_extra = data[cols_extra].to_numpy()\n",
    "\n",
    "    if mode == 'train':\n",
    "        # one hot encode the data and apply SVD\n",
    "        data_encoded = onehot.fit_transform(data_to_onehot).toarray()\n",
    "        data_reduced = svd.fit_transform(data_encoded)\n",
    "\n",
    "        # add extra columns\n",
    "        data_concat = np.concatenate([data_reduced, data_extra], axis=1)\n",
    "        # scale data\n",
    "        data_processed = scaler.fit_transform(data_concat)\n",
    "\n",
    "    elif mode == 'test':\n",
    "        # one hot encode the data and apply SVD\n",
    "        data_encoded = onehot.transform(data_to_onehot).toarray()\n",
    "        data_reduced = svd.transform(data_encoded)\n",
    "\n",
    "        # add extra columns\n",
    "        data_concat = np.concatenate([data_reduced, data_extra], axis=1)\n",
    "        # scale data\n",
    "        data_processed = scaler.transform(data_concat)\n",
    "\n",
    "    return data_processed"
   ]
  },
  {
   "cell_type": "markdown",
   "metadata": {},
   "source": [
    "Ahora definimos el entrenamiento a utilizar.\n",
    "\n",
    "Como se mensionó antes, lo ideal seria entrenar con un par de años y testear con un año siguiente, para evitar que el test sea muy similar al entrenamiento; ya que el modelo puede aprender comportamientos fortuitos en el año, y si el train y test son del mismo año, no habrá forma de comprobar que el modelo no los ha aprendido. Pero como esto no es solucionable con este dataset (a menos que se elimine la columna de MES, que tiene la informacion temporal), se realizará gridsearch con el entrenamiento; no se realizará cross validation porque la cantidad de data no es tan baja, y podria resultar en un computo muy costoso.\n",
    "\n",
    "Ademas de lo anterior, se utilizará el modelo XGBoost, y se buscarán los mejores parametros utilizando un set de validacion, maximisando la metrica f1_score"
   ]
  },
  {
   "cell_type": "markdown",
   "metadata": {},
   "source": [
    "Se separan los set de entrenamiento, validacion y test"
   ]
  },
  {
   "cell_type": "code",
   "execution_count": 110,
   "metadata": {},
   "outputs": [
    {
     "name": "stdout",
     "output_type": "stream",
     "text": [
      "Train data shape: (40848, 27)\n",
      "Val data shape: (13616, 27)\n",
      "Test data shape: (13617, 27)\n"
     ]
    }
   ],
   "source": [
    "X_full = data[['Des-I', 'Emp-I', 'MES', 'TIPOVUELO']]\n",
    "y_full = data['atraso_15'].to_numpy()\n",
    "\n",
    "# split data into train, test and validation sets\n",
    "X_temp, X_test, y_temp, y_test = train_test_split(X_full, y_full, test_size=0.2, random_state=42)\n",
    "X_train, X_val, y_train, y_val = train_test_split(X_temp, y_temp, test_size=0.25, random_state=42)\n",
    "del X_temp, y_temp\n",
    "\n",
    "# define one hot encoder, svd and scaler\n",
    "onehot = OneHotEncoder(handle_unknown='ignore')\n",
    "svd = TruncatedSVD(n_components=26)\n",
    "scaler = StandardScaler()\n",
    "\n",
    "# preprocess data\n",
    "X_train_processed = preprocess_data(X_train, onehot, svd, scaler, cols_to_onehot=['Des-I', 'Emp-I', 'TIPOVUELO'], cols_extra=['MES'], mode='train')\n",
    "X_val_processed = preprocess_data(X_val, onehot, svd, scaler, cols_to_onehot=['Des-I', 'Emp-I', 'TIPOVUELO'], cols_extra=['MES'], mode='test')\n",
    "X_test_processed = preprocess_data(X_test, onehot, svd, scaler, cols_to_onehot=['Des-I', 'Emp-I', 'TIPOVUELO'], cols_extra=['MES'], mode='test')\n",
    "\n",
    "# show shape of processed data\n",
    "print(f'Train data shape: {X_train_processed.shape}')\n",
    "print(f'Val data shape: {X_val_processed.shape}')\n",
    "print(f'Test data shape: {X_test_processed.shape}')"
   ]
  },
  {
   "cell_type": "markdown",
   "metadata": {},
   "source": [
    "Ahora se define los parametros para el grid search, y se buscan los mejores parametros para XGBoost (puede tardar unos 4-5min)"
   ]
  },
  {
   "cell_type": "code",
   "execution_count": 124,
   "metadata": {},
   "outputs": [
    {
     "name": "stdout",
     "output_type": "stream",
     "text": [
      "best score: 0.11546685673556664\n",
      "best params:{'eta': 0.2, 'lambda': 1.2, 'max_depth': 10}\n"
     ]
    }
   ],
   "source": [
    "# define search parameters for parameter grid\n",
    "search_params = {'max_depth':[x for x in range(7,11)],\n",
    "                'eta':[0.05*x for x in range(1,5)],\n",
    "                'lambda':[0.05*x+1 for x in range(3,9)]\n",
    "                }\n",
    "\n",
    "# define model and metric\n",
    "model_class = XGBClassifier\n",
    "maximize_metric = f1_score\n",
    "\n",
    "# placeholders for model evaluation\n",
    "best_score = 0\n",
    "best_params = None\n",
    "\n",
    "# run parameter grid\n",
    "param_grid = ParameterGrid(search_params)\n",
    "for params in param_grid:\n",
    "    model = model_class(**params, use_label_encoder=False, eval_metric='logloss')\n",
    "    model.fit(X_train_processed, y_train)\n",
    "    pred = model.predict(X_val_processed)\n",
    "    score = maximize_metric(y_val, pred)\n",
    "    if score > best_score:\n",
    "        best_score = score\n",
    "        best_params = params\n",
    "\n",
    "print(f'best score: {best_score}\\nbest params:{best_params}')"
   ]
  },
  {
   "cell_type": "markdown",
   "metadata": {},
   "source": [
    "Ahora usamos el modelo con los mejores parametros y lo utilizamos para predecir el test"
   ]
  },
  {
   "cell_type": "code",
   "execution_count": 125,
   "metadata": {},
   "outputs": [
    {
     "name": "stdout",
     "output_type": "stream",
     "text": [
      "Test accuracy: 0.8163325255195711\n",
      "Test f1 score: 0.13788348845225787\n"
     ]
    }
   ],
   "source": [
    "# train final model\n",
    "model = model_class(**best_params, use_label_encoder=False, eval_metric='logloss')\n",
    "model.fit(X_train_processed, y_train)\n",
    "\n",
    "# predict on test data\n",
    "pred = model.predict(X_test_processed)\n",
    "print(f'Test accuracy: {accuracy_score(y_test, pred)}')\n",
    "print(f'Test f1 score: {f1_score(y_test, pred)}')"
   ]
  },
  {
   "cell_type": "markdown",
   "metadata": {},
   "source": [
    "# 5 - Evaluación\n",
    "\n",
    "Aqui se responderá:\n",
    "\n",
    "5. Evalúa tu modelo. ¿Qué performance tiene? ¿Qué métricas usaste para evaluar esa performance y por qué? ¿Por qué\n",
    "elegiste ese algoritmo en particular? ¿Qué variables son las que más influyen en la predicción? ¿Cómo podrías mejorar la\n",
    "performance?"
   ]
  },
  {
   "cell_type": "code",
   "execution_count": 126,
   "metadata": {},
   "outputs": [
    {
     "name": "stdout",
     "output_type": "stream",
     "text": [
      "Test accuracy: 0.8163325255195711\n",
      "Test f1 score: 0.13788348845225787\n",
      "[[10916   132]\n",
      " [ 2369   200]]\n"
     ]
    }
   ],
   "source": [
    "# predict on test data\n",
    "pred = model.predict(X_test_processed)\n",
    "print(f'Test accuracy: {accuracy_score(y_test, pred)}')\n",
    "print(f'Test f1 score: {f1_score(y_test, pred)}')\n",
    "print(confusion_matrix(y_test, pred))\n"
   ]
  },
  {
   "cell_type": "markdown",
   "metadata": {},
   "source": [
    "¿Qué performance tiene?\n",
    "\n",
    "La tasa de aciertos del modelo es de 81,6%, pero f1 score es de 0.137, lo cual indica que realmente el modelo es pesimo"
   ]
  },
  {
   "cell_type": "markdown",
   "metadata": {},
   "source": [
    "¿Qué métricas usaste para evaluar esa performance y por qué?\n",
    "\n",
    "F1 score, suele ser la mejor metrica de un solo numero para clasificacion; como se puede ver, accuracy es relativamente alto 81,6%, pero esto se debe a que la mayoria de los datos se clasifican como \"no atraso\", y como esta es la clase mas abundante, resulta en un alto accuracy. La matriz de confusion muestra como se distribullen los resultados de classificacion por clase, por lo que es util para ver el detalle. "
   ]
  },
  {
   "cell_type": "markdown",
   "metadata": {},
   "source": [
    "¿Por qué elegiste ese algoritmo en particular?\n",
    "\n",
    "XGBoost lo elegí porque es un modelo bastante potente para problemas de ML clasicos de tabla con filas de datos independientes (no series temporales, o imagenes); el preprocesamiento porque es una forma más estandar de reducir los datos, que no requiere mucha experiencia en cuales son las mejores metodologias para trabajar con datos con high sparsity."
   ]
  },
  {
   "cell_type": "markdown",
   "metadata": {},
   "source": [
    "¿Qué variables son las que más influyen en la predicción?\n",
    "\n",
    "Como se describió antes, se espera que los features con mayor desviacion estandar tengan mas influencia, es decir, el Destino y la Aerolinea. Como parte del preprocesamiento es reduccion de dimensionalidad, se pierde la intuicion de cada feature despues de esto, por lo que aunque se pueda ver que features influyen mas en la clasificacion del modelo XGBoost entrenado, no serviria de mucho.\n",
    "\n"
   ]
  },
  {
   "cell_type": "markdown",
   "metadata": {},
   "source": [
    "¿Cómo podrías mejorar la performance?\n",
    "\n",
    "Rapidamente, probando otros modelos y otros preprocesamientos; como fue mensionado antes, existen distintas formas de trasformar la data categorica a algo que pueda utilizar un modelo, otros tipos de encoding, como Binary Encoding o Frequency Encoding; tambien está la posibilidad de eliminar o agrupar las categorias que ocurren con poca frecuencia, para terminar con menos features. Tambien, debido a que la cantidad de datos no es tan baja, se podrian utilizar redes neuronales, las cuales podrian tener mejores resultados.\n",
    "\n",
    "Como fue visto en el analisis, de todas maneras pareciese ser que faltan muchos datos, no hay vuelos que lleguen a Santiago, solo los que salen; ademas, solo hay un año de informacion. Si se tuviese toda la data se podrian entrenar redes neuronales con mas seguridad, las que sueles ser buenas con alta cantidad de datos.\n",
    "\n",
    "Finalmente está la posibilidad de realizar un modelo mucho mas complejo, para este analisis se consideró los vuelos como totalmente independientes, pero en realidad es un problema de logistica que relaciona los vuelos, es decir, podria ser util usar la informacion de los vuelos recientes para predecir; pero esto es un modelo más complejo, que requiere más analisis y trabajo."
   ]
  }
 ],
 "metadata": {
  "interpreter": {
   "hash": "19503342eb477eac4e169cc64cfe9034c189f8df0d0d66e667fe1a88fedf96a2"
  },
  "kernelspec": {
   "display_name": "Python 3.8.10 ('latam': venv)",
   "language": "python",
   "name": "python3"
  },
  "language_info": {
   "codemirror_mode": {
    "name": "ipython",
    "version": 3
   },
   "file_extension": ".py",
   "mimetype": "text/x-python",
   "name": "python",
   "nbconvert_exporter": "python",
   "pygments_lexer": "ipython3",
   "version": "3.8.10"
  },
  "orig_nbformat": 4
 },
 "nbformat": 4,
 "nbformat_minor": 2
}
